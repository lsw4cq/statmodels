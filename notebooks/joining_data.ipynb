{
 "cells": [
  {
   "cell_type": "code",
   "execution_count": 3,
   "metadata": {},
   "outputs": [],
   "source": [
    "import pandas as pd"
   ]
  },
  {
   "cell_type": "markdown",
   "metadata": {},
   "source": [
    "Join the data from Part 1 with the data from Part 2 to create a new dataframe."
   ]
  },
  {
   "cell_type": "code",
   "execution_count": 4,
   "metadata": {},
   "outputs": [],
   "source": [
    "yelpparsed=pd.read_csv('../data/yelpdata.csv')\n",
    "foursquareparsed=pd.read_csv('../data/foursqdata.csv')\n",
    "citybikedata=pd.read_csv('../data/data.csv')"
   ]
  },
  {
   "cell_type": "code",
   "execution_count": 9,
   "metadata": {},
   "outputs": [],
   "source": [
    "citybikedata.rename(columns={'name': 'station'}, inplace=True)"
   ]
  },
  {
   "cell_type": "code",
   "execution_count": 22,
   "metadata": {},
   "outputs": [],
   "source": [
    "mergeddf=pd.merge(citybikedata,yelpparsed,on=['station'],how='inner',suffixes=('city','yelp'))\n",
    "finaldf=pd.merge(mergeddf,foursquareparsed,on=['station'],how='inner',suffixes=('','foursq'))\n",
    "finaldf=finaldf.rename(columns={'distance': 'distanceyelp','name':'poiname', 'rating':'ratingyelp','popularity':'popularityyelp'})"
   ]
  },
  {
   "cell_type": "code",
   "execution_count": 23,
   "metadata": {},
   "outputs": [
    {
     "data": {
      "text/html": [
       "<div>\n",
       "<style scoped>\n",
       "    .dataframe tbody tr th:only-of-type {\n",
       "        vertical-align: middle;\n",
       "    }\n",
       "\n",
       "    .dataframe tbody tr th {\n",
       "        vertical-align: top;\n",
       "    }\n",
       "\n",
       "    .dataframe thead th {\n",
       "        text-align: right;\n",
       "    }\n",
       "</style>\n",
       "<table border=\"1\" class=\"dataframe\">\n",
       "  <thead>\n",
       "    <tr style=\"text-align: right;\">\n",
       "      <th></th>\n",
       "      <th>station</th>\n",
       "      <th>latitude</th>\n",
       "      <th>longitude</th>\n",
       "      <th>free_bikes</th>\n",
       "      <th>empty_slots</th>\n",
       "      <th>total_bike_cap</th>\n",
       "      <th>distanceyelp</th>\n",
       "      <th>poiname</th>\n",
       "      <th>location.address</th>\n",
       "      <th>ratingyelp</th>\n",
       "      <th>distancefoursq</th>\n",
       "      <th>namefoursq</th>\n",
       "      <th>location.addressfoursq</th>\n",
       "      <th>ratingfoursq</th>\n",
       "      <th>popularityyelp</th>\n",
       "      <th>categories</th>\n",
       "    </tr>\n",
       "  </thead>\n",
       "  <tbody>\n",
       "    <tr>\n",
       "      <th>0</th>\n",
       "      <td>East End Library</td>\n",
       "      <td>37.539779</td>\n",
       "      <td>-77.41146</td>\n",
       "      <td>0</td>\n",
       "      <td>6</td>\n",
       "      <td>6</td>\n",
       "      <td>645.388529</td>\n",
       "      <td>The Roosevelt</td>\n",
       "      <td>623 N 25th St</td>\n",
       "      <td>4.2</td>\n",
       "      <td>773</td>\n",
       "      <td>Union Market</td>\n",
       "      <td>2306 Jefferson Ave</td>\n",
       "      <td>9.4</td>\n",
       "      <td>0.984966</td>\n",
       "      <td>bar</td>\n",
       "    </tr>\n",
       "    <tr>\n",
       "      <th>1</th>\n",
       "      <td>East End Library</td>\n",
       "      <td>37.539779</td>\n",
       "      <td>-77.41146</td>\n",
       "      <td>0</td>\n",
       "      <td>6</td>\n",
       "      <td>6</td>\n",
       "      <td>645.388529</td>\n",
       "      <td>The Roosevelt</td>\n",
       "      <td>623 N 25th St</td>\n",
       "      <td>4.2</td>\n",
       "      <td>912</td>\n",
       "      <td>Liberty Public House</td>\n",
       "      <td>418 N 25th St</td>\n",
       "      <td>8.7</td>\n",
       "      <td>0.975994</td>\n",
       "      <td>bar</td>\n",
       "    </tr>\n",
       "    <tr>\n",
       "      <th>2</th>\n",
       "      <td>East End Library</td>\n",
       "      <td>37.539779</td>\n",
       "      <td>-77.41146</td>\n",
       "      <td>0</td>\n",
       "      <td>6</td>\n",
       "      <td>6</td>\n",
       "      <td>645.388529</td>\n",
       "      <td>The Roosevelt</td>\n",
       "      <td>623 N 25th St</td>\n",
       "      <td>4.2</td>\n",
       "      <td>604</td>\n",
       "      <td>Kahlo’s Taqueria and Bar</td>\n",
       "      <td>718 N 23rd St</td>\n",
       "      <td>7.8</td>\n",
       "      <td>0.971639</td>\n",
       "      <td>bar</td>\n",
       "    </tr>\n",
       "    <tr>\n",
       "      <th>3</th>\n",
       "      <td>East End Library</td>\n",
       "      <td>37.539779</td>\n",
       "      <td>-77.41146</td>\n",
       "      <td>0</td>\n",
       "      <td>6</td>\n",
       "      <td>6</td>\n",
       "      <td>645.388529</td>\n",
       "      <td>The Roosevelt</td>\n",
       "      <td>623 N 25th St</td>\n",
       "      <td>4.2</td>\n",
       "      <td>917</td>\n",
       "      <td>Leisure Business Advisors</td>\n",
       "      <td>2010 Princess Anne Ave</td>\n",
       "      <td>NaN</td>\n",
       "      <td>0.283975</td>\n",
       "      <td>office</td>\n",
       "    </tr>\n",
       "    <tr>\n",
       "      <th>4</th>\n",
       "      <td>East End Library</td>\n",
       "      <td>37.539779</td>\n",
       "      <td>-77.41146</td>\n",
       "      <td>0</td>\n",
       "      <td>6</td>\n",
       "      <td>6</td>\n",
       "      <td>645.388529</td>\n",
       "      <td>The Roosevelt</td>\n",
       "      <td>623 N 25th St</td>\n",
       "      <td>4.2</td>\n",
       "      <td>999</td>\n",
       "      <td>Armstrong Renaissance</td>\n",
       "      <td>1665 N 31st St</td>\n",
       "      <td>NaN</td>\n",
       "      <td>0.324007</td>\n",
       "      <td>office</td>\n",
       "    </tr>\n",
       "  </tbody>\n",
       "</table>\n",
       "</div>"
      ],
      "text/plain": [
       "            station   latitude  longitude  free_bikes  empty_slots  \\\n",
       "0  East End Library  37.539779  -77.41146           0            6   \n",
       "1  East End Library  37.539779  -77.41146           0            6   \n",
       "2  East End Library  37.539779  -77.41146           0            6   \n",
       "3  East End Library  37.539779  -77.41146           0            6   \n",
       "4  East End Library  37.539779  -77.41146           0            6   \n",
       "\n",
       "   total_bike_cap  distanceyelp        poiname location.address  ratingyelp  \\\n",
       "0               6    645.388529  The Roosevelt    623 N 25th St         4.2   \n",
       "1               6    645.388529  The Roosevelt    623 N 25th St         4.2   \n",
       "2               6    645.388529  The Roosevelt    623 N 25th St         4.2   \n",
       "3               6    645.388529  The Roosevelt    623 N 25th St         4.2   \n",
       "4               6    645.388529  The Roosevelt    623 N 25th St         4.2   \n",
       "\n",
       "   distancefoursq                 namefoursq  location.addressfoursq  \\\n",
       "0             773               Union Market      2306 Jefferson Ave   \n",
       "1             912       Liberty Public House           418 N 25th St   \n",
       "2             604   Kahlo’s Taqueria and Bar           718 N 23rd St   \n",
       "3             917  Leisure Business Advisors  2010 Princess Anne Ave   \n",
       "4             999      Armstrong Renaissance          1665 N 31st St   \n",
       "\n",
       "   ratingfoursq  popularityyelp categories  \n",
       "0           9.4        0.984966        bar  \n",
       "1           8.7        0.975994        bar  \n",
       "2           7.8        0.971639        bar  \n",
       "3           NaN        0.283975     office  \n",
       "4           NaN        0.324007     office  "
      ]
     },
     "execution_count": 23,
     "metadata": {},
     "output_type": "execute_result"
    }
   ],
   "source": [
    "finaldf.head()"
   ]
  },
  {
   "cell_type": "markdown",
   "metadata": {},
   "source": [
    "Provide a visualization that you used as part of your EDA process. Explain the initial pattern or relationship you discoved through this visualization. "
   ]
  },
  {
   "cell_type": "code",
   "execution_count": 24,
   "metadata": {},
   "outputs": [
    {
     "data": {
      "text/html": [
       "<div>\n",
       "<style scoped>\n",
       "    .dataframe tbody tr th:only-of-type {\n",
       "        vertical-align: middle;\n",
       "    }\n",
       "\n",
       "    .dataframe tbody tr th {\n",
       "        vertical-align: top;\n",
       "    }\n",
       "\n",
       "    .dataframe thead th {\n",
       "        text-align: right;\n",
       "    }\n",
       "</style>\n",
       "<table border=\"1\" class=\"dataframe\">\n",
       "  <thead>\n",
       "    <tr style=\"text-align: right;\">\n",
       "      <th></th>\n",
       "      <th>station</th>\n",
       "      <th>latitude</th>\n",
       "      <th>longitude</th>\n",
       "      <th>free_bikes</th>\n",
       "      <th>empty_slots</th>\n",
       "      <th>total_bike_cap</th>\n",
       "      <th>distanceyelp</th>\n",
       "      <th>poiname</th>\n",
       "      <th>location.address</th>\n",
       "      <th>ratingyelp</th>\n",
       "      <th>distancefoursq</th>\n",
       "      <th>namefoursq</th>\n",
       "      <th>location.addressfoursq</th>\n",
       "      <th>ratingfoursq</th>\n",
       "      <th>popularityyelp</th>\n",
       "      <th>categories</th>\n",
       "    </tr>\n",
       "  </thead>\n",
       "  <tbody>\n",
       "    <tr>\n",
       "      <th>0</th>\n",
       "      <td>East End Library</td>\n",
       "      <td>37.539779</td>\n",
       "      <td>-77.41146</td>\n",
       "      <td>0</td>\n",
       "      <td>6</td>\n",
       "      <td>6</td>\n",
       "      <td>645.388529</td>\n",
       "      <td>The Roosevelt</td>\n",
       "      <td>623 N 25th St</td>\n",
       "      <td>8.4</td>\n",
       "      <td>773</td>\n",
       "      <td>Union Market</td>\n",
       "      <td>2306 Jefferson Ave</td>\n",
       "      <td>9.4</td>\n",
       "      <td>0.984966</td>\n",
       "      <td>bar</td>\n",
       "    </tr>\n",
       "    <tr>\n",
       "      <th>1</th>\n",
       "      <td>East End Library</td>\n",
       "      <td>37.539779</td>\n",
       "      <td>-77.41146</td>\n",
       "      <td>0</td>\n",
       "      <td>6</td>\n",
       "      <td>6</td>\n",
       "      <td>645.388529</td>\n",
       "      <td>The Roosevelt</td>\n",
       "      <td>623 N 25th St</td>\n",
       "      <td>8.4</td>\n",
       "      <td>912</td>\n",
       "      <td>Liberty Public House</td>\n",
       "      <td>418 N 25th St</td>\n",
       "      <td>8.7</td>\n",
       "      <td>0.975994</td>\n",
       "      <td>bar</td>\n",
       "    </tr>\n",
       "    <tr>\n",
       "      <th>2</th>\n",
       "      <td>East End Library</td>\n",
       "      <td>37.539779</td>\n",
       "      <td>-77.41146</td>\n",
       "      <td>0</td>\n",
       "      <td>6</td>\n",
       "      <td>6</td>\n",
       "      <td>645.388529</td>\n",
       "      <td>The Roosevelt</td>\n",
       "      <td>623 N 25th St</td>\n",
       "      <td>8.4</td>\n",
       "      <td>604</td>\n",
       "      <td>Kahlo’s Taqueria and Bar</td>\n",
       "      <td>718 N 23rd St</td>\n",
       "      <td>7.8</td>\n",
       "      <td>0.971639</td>\n",
       "      <td>bar</td>\n",
       "    </tr>\n",
       "    <tr>\n",
       "      <th>3</th>\n",
       "      <td>East End Library</td>\n",
       "      <td>37.539779</td>\n",
       "      <td>-77.41146</td>\n",
       "      <td>0</td>\n",
       "      <td>6</td>\n",
       "      <td>6</td>\n",
       "      <td>645.388529</td>\n",
       "      <td>The Roosevelt</td>\n",
       "      <td>623 N 25th St</td>\n",
       "      <td>8.4</td>\n",
       "      <td>917</td>\n",
       "      <td>Leisure Business Advisors</td>\n",
       "      <td>2010 Princess Anne Ave</td>\n",
       "      <td>NaN</td>\n",
       "      <td>0.283975</td>\n",
       "      <td>office</td>\n",
       "    </tr>\n",
       "    <tr>\n",
       "      <th>4</th>\n",
       "      <td>East End Library</td>\n",
       "      <td>37.539779</td>\n",
       "      <td>-77.41146</td>\n",
       "      <td>0</td>\n",
       "      <td>6</td>\n",
       "      <td>6</td>\n",
       "      <td>645.388529</td>\n",
       "      <td>The Roosevelt</td>\n",
       "      <td>623 N 25th St</td>\n",
       "      <td>8.4</td>\n",
       "      <td>999</td>\n",
       "      <td>Armstrong Renaissance</td>\n",
       "      <td>1665 N 31st St</td>\n",
       "      <td>NaN</td>\n",
       "      <td>0.324007</td>\n",
       "      <td>office</td>\n",
       "    </tr>\n",
       "  </tbody>\n",
       "</table>\n",
       "</div>"
      ],
      "text/plain": [
       "            station   latitude  longitude  free_bikes  empty_slots  \\\n",
       "0  East End Library  37.539779  -77.41146           0            6   \n",
       "1  East End Library  37.539779  -77.41146           0            6   \n",
       "2  East End Library  37.539779  -77.41146           0            6   \n",
       "3  East End Library  37.539779  -77.41146           0            6   \n",
       "4  East End Library  37.539779  -77.41146           0            6   \n",
       "\n",
       "   total_bike_cap  distanceyelp        poiname location.address  ratingyelp  \\\n",
       "0               6    645.388529  The Roosevelt    623 N 25th St         8.4   \n",
       "1               6    645.388529  The Roosevelt    623 N 25th St         8.4   \n",
       "2               6    645.388529  The Roosevelt    623 N 25th St         8.4   \n",
       "3               6    645.388529  The Roosevelt    623 N 25th St         8.4   \n",
       "4               6    645.388529  The Roosevelt    623 N 25th St         8.4   \n",
       "\n",
       "   distancefoursq                 namefoursq  location.addressfoursq  \\\n",
       "0             773               Union Market      2306 Jefferson Ave   \n",
       "1             912       Liberty Public House           418 N 25th St   \n",
       "2             604   Kahlo’s Taqueria and Bar           718 N 23rd St   \n",
       "3             917  Leisure Business Advisors  2010 Princess Anne Ave   \n",
       "4             999      Armstrong Renaissance          1665 N 31st St   \n",
       "\n",
       "   ratingfoursq  popularityyelp categories  \n",
       "0           9.4        0.984966        bar  \n",
       "1           8.7        0.975994        bar  \n",
       "2           7.8        0.971639        bar  \n",
       "3           NaN        0.283975     office  \n",
       "4           NaN        0.324007     office  "
      ]
     },
     "execution_count": 24,
     "metadata": {},
     "output_type": "execute_result"
    }
   ],
   "source": [
    "finaldf['ratingyelp']=finaldf[['ratingyelp']]*2\n",
    "finaldf.head()"
   ]
  },
  {
   "cell_type": "markdown",
   "metadata": {},
   "source": [
    "# Database"
   ]
  },
  {
   "cell_type": "markdown",
   "metadata": {},
   "source": [
    "Put all your results in an SQLite3 database (remember, SQLite stores its databases as files in your local machine - make sure to create your database in your project's data/ directory!)"
   ]
  },
  {
   "cell_type": "code",
   "execution_count": 27,
   "metadata": {},
   "outputs": [
    {
     "name": "stdout",
     "output_type": "stream",
     "text": [
      "Connection successful\n"
     ]
    }
   ],
   "source": [
    "import sqlite3\n",
    "from sqlite3 import Error as e\n",
    "\n",
    "def create_connection(path):\n",
    "    connection = None\n",
    "    try:\n",
    "        connection = sqlite3.connect(path)\n",
    "        print(\"Connection successful\")\n",
    "    except Error as e:\n",
    "        print(f'The error {e}')\n",
    "    return connection\n",
    "\n",
    "\n",
    "\n",
    "connection = create_connection('../data/db')"
   ]
  },
  {
   "cell_type": "markdown",
   "metadata": {},
   "source": [
    "creating function to execute queries"
   ]
  },
  {
   "cell_type": "code",
   "execution_count": 28,
   "metadata": {},
   "outputs": [],
   "source": [
    "def execute_query(connection, query):\n",
    "    cursor = connection.cursor()\n",
    "    try:\n",
    "        cursor.execute(query)\n",
    "        connection.commit()\n",
    "        print(\"Query successful\")\n",
    "    except Error as e:\n",
    "        print(f\"The error '{e}' occurred\")"
   ]
  },
  {
   "cell_type": "markdown",
   "metadata": {},
   "source": [
    "Creating and filling in stations table"
   ]
  },
  {
   "cell_type": "code",
   "execution_count": 31,
   "metadata": {},
   "outputs": [],
   "source": [
    "create_stations_table = \"\"\"\n",
    "CREATE TABLE IF NOT EXISTS stations (\n",
    "  id INTEGER PRIMARY KEY AUTOINCREMENT,\n",
    "  name TEXT NOT NULL,\n",
    "  latitude INTEGER,\n",
    "  longitude INTEGER,\n",
    "  free_bikes INTEGER,\n",
    "  empty_slots INTEGER,\n",
    "  total_bike_cap INTEGER\n",
    "); \"\"\"\n",
    "\n",
    "execute_query(connection, create_stations_table)  \n"
   ]
  },
  {
   "cell_type": "code",
   "execution_count": 32,
   "metadata": {},
   "outputs": [
    {
     "name": "stdout",
     "output_type": "stream",
     "text": [
      "Query successful\n"
     ]
    }
   ],
   "source": [
    "cursor = connection.cursor()\n",
    "for index, row in citybikedata.iterrows():\n",
    "    create_station = f\"\"\"\n",
    "    INSERT INTO \n",
    "        stations(name, latitude, longitude, free_bikes, empty_slots, total_bike_cap)\n",
    "    VALUES\n",
    "        ('{row['station']}', {row['latitude']}, {row['longitude']},{row['free_bikes']}, {row['empty_slots']}, {row['total_bike_cap']})\n",
    "    \"\"\"\n",
    "    cursor.execute(create_station)\n",
    "connection.commit()"
   ]
  },
  {
   "cell_type": "markdown",
   "metadata": {},
   "source": [
    "Creating and inserting yelp table"
   ]
  },
  {
   "cell_type": "code",
   "execution_count": 38,
   "metadata": {},
   "outputs": [],
   "source": []
  },
  {
   "cell_type": "markdown",
   "metadata": {},
   "source": [
    "creating read statement function"
   ]
  },
  {
   "cell_type": "code",
   "execution_count": 39,
   "metadata": {},
   "outputs": [],
   "source": [
    "check_stations_table = \"\"\"\n",
    "    SELECT *\n",
    "    FROM stations\n",
    "    LIMIT 10\n",
    "\n",
    "\"\"\"\n",
    "\n"
   ]
  },
  {
   "cell_type": "markdown",
   "metadata": {},
   "source": [
    "Look at the data before and after the join to validate your data."
   ]
  },
  {
   "cell_type": "code",
   "execution_count": 40,
   "metadata": {},
   "outputs": [],
   "source": [
    "def execute_read_query(connection, query):\n",
    "    cursor = connection.cursor()\n",
    "    result = None\n",
    "    try:\n",
    "        cursor.execute(query)\n",
    "        result = cursor.fetchall()\n",
    "        return result\n",
    "    except Error as e:\n",
    "        print(f\"The error '{e}' occurred\")"
   ]
  },
  {
   "cell_type": "code",
   "execution_count": 41,
   "metadata": {},
   "outputs": [
    {
     "name": "stdout",
     "output_type": "stream",
     "text": [
      "(1, 'East End Library', 37.539778925345864, -77.41146002560403, 0, 6, 6)\n",
      "(2, 'Sydney Park', 37.54696765790552, -77.45659857991984, 0, 16, 16)\n",
      "(3, 'Broad & Harrison', 37.55147166118693, -77.45193690061576, 0, 19, 19)\n",
      "(4, 'Broad & Lombardy', 37.55371555769088, -77.45568104693, 0, 23, 23)\n",
      "(5, 'Broad Rock Library', 37.48329106243563, -77.47938997776974, 0, 10, 10)\n",
      "(6, 'Abner Clay Park', 37.54887732047105, -77.44269669055932, 0, 16, 16)\n",
      "(7, 'Center Stage', 37.541363013108416, -77.43708378535466, 0, 19, 19)\n",
      "(8, 'Main Street Station', 37.53458546847389, -77.43012148479552, 0, 16, 16)\n",
      "(9, 'Carter Jones Park', 37.51493677847786, -77.46047501956636, 0, 16, 16)\n",
      "(10, 'Kanawha Plaza', 37.53713573652868, -77.43928223848339, 0, 19, 19)\n"
     ]
    }
   ],
   "source": [
    "stations = execute_read_query(connection, check_stations_table)\n",
    "\n",
    "for station in stations:\n",
    "    print(station)"
   ]
  }
 ],
 "metadata": {
  "kernelspec": {
   "display_name": "bootcamp",
   "language": "python",
   "name": "python3"
  },
  "language_info": {
   "codemirror_mode": {
    "name": "ipython",
    "version": 3
   },
   "file_extension": ".py",
   "mimetype": "text/x-python",
   "name": "python",
   "nbconvert_exporter": "python",
   "pygments_lexer": "ipython3",
   "version": "3.11.0"
  }
 },
 "nbformat": 4,
 "nbformat_minor": 4
}
