{
 "cells": [
  {
   "cell_type": "code",
   "execution_count": 1,
   "metadata": {},
   "outputs": [],
   "source": [
    "import pandas as pd"
   ]
  },
  {
   "cell_type": "markdown",
   "metadata": {},
   "source": [
    "Join the data from Part 1 with the data from Part 2 to create a new dataframe."
   ]
  },
  {
   "cell_type": "code",
   "execution_count": 9,
   "metadata": {},
   "outputs": [],
   "source": [
    "yelpparsed=pd.read_csv('../data/yelpdata.csv')\n",
    "foursquareparsed=pd.read_csv('../data/foursqdata.csv')\n",
    "citybikedata=pd.read_csv('../data/data.csv')"
   ]
  },
  {
   "cell_type": "code",
   "execution_count": 7,
   "metadata": {},
   "outputs": [],
   "source": [
    "mergeddf=pd.merge(yelpparsed,foursquareparsed,on=['name','location.address'],how='inner',suffixes=('yelp','4sq'))\n",
    "mergeddf.head()\n",
    "mergeddf = mergeddf[['stationyelp','name','location.address','ratingyelp','rating4sq']]"
   ]
  },
  {
   "cell_type": "code",
   "execution_count": 8,
   "metadata": {},
   "outputs": [
    {
     "data": {
      "text/html": [
       "<div>\n",
       "<style scoped>\n",
       "    .dataframe tbody tr th:only-of-type {\n",
       "        vertical-align: middle;\n",
       "    }\n",
       "\n",
       "    .dataframe tbody tr th {\n",
       "        vertical-align: top;\n",
       "    }\n",
       "\n",
       "    .dataframe thead th {\n",
       "        text-align: right;\n",
       "    }\n",
       "</style>\n",
       "<table border=\"1\" class=\"dataframe\">\n",
       "  <thead>\n",
       "    <tr style=\"text-align: right;\">\n",
       "      <th></th>\n",
       "      <th>stationyelp</th>\n",
       "      <th>name</th>\n",
       "      <th>location.address</th>\n",
       "      <th>ratingyelp</th>\n",
       "      <th>rating4sq</th>\n",
       "    </tr>\n",
       "  </thead>\n",
       "  <tbody>\n",
       "    <tr>\n",
       "      <th>0</th>\n",
       "      <td>East End Library</td>\n",
       "      <td>Kahlo’s Taqueria and Bar</td>\n",
       "      <td>718 N 23rd St</td>\n",
       "      <td>8.2</td>\n",
       "      <td>7.8</td>\n",
       "    </tr>\n",
       "    <tr>\n",
       "      <th>1</th>\n",
       "      <td>East End Library</td>\n",
       "      <td>Union Market</td>\n",
       "      <td>2306 Jefferson Ave</td>\n",
       "      <td>8.6</td>\n",
       "      <td>9.4</td>\n",
       "    </tr>\n",
       "    <tr>\n",
       "      <th>2</th>\n",
       "      <td>East End Library</td>\n",
       "      <td>Patrick Henry's Pub &amp; Grille</td>\n",
       "      <td>2300 E Broad St</td>\n",
       "      <td>7.8</td>\n",
       "      <td>8.6</td>\n",
       "    </tr>\n",
       "    <tr>\n",
       "      <th>3</th>\n",
       "      <td>Sydney Park</td>\n",
       "      <td>Cobra Cabana</td>\n",
       "      <td>901 W Marshall St</td>\n",
       "      <td>8.6</td>\n",
       "      <td>7.9</td>\n",
       "    </tr>\n",
       "    <tr>\n",
       "      <th>4</th>\n",
       "      <td>Sydney Park</td>\n",
       "      <td>Home Team Grill</td>\n",
       "      <td>1630 W Main St</td>\n",
       "      <td>6.8</td>\n",
       "      <td>6.5</td>\n",
       "    </tr>\n",
       "  </tbody>\n",
       "</table>\n",
       "</div>"
      ],
      "text/plain": [
       "        stationyelp                          name    location.address  \\\n",
       "0  East End Library      Kahlo’s Taqueria and Bar       718 N 23rd St   \n",
       "1  East End Library                  Union Market  2306 Jefferson Ave   \n",
       "2  East End Library  Patrick Henry's Pub & Grille     2300 E Broad St   \n",
       "3       Sydney Park                  Cobra Cabana   901 W Marshall St   \n",
       "4       Sydney Park               Home Team Grill      1630 W Main St   \n",
       "\n",
       "   ratingyelp  rating4sq  \n",
       "0         8.2        7.8  \n",
       "1         8.6        9.4  \n",
       "2         7.8        8.6  \n",
       "3         8.6        7.9  \n",
       "4         6.8        6.5  "
      ]
     },
     "execution_count": 8,
     "metadata": {},
     "output_type": "execute_result"
    }
   ],
   "source": [
    "mergeddf['ratingyelp']=mergeddf[['ratingyelp']]*2\n",
    "mergeddf.head()"
   ]
  },
  {
   "cell_type": "markdown",
   "metadata": {},
   "source": [
    "Provide a visualization that you used as part of your EDA process. Explain the initial pattern or relationship you discoved through this visualization. "
   ]
  },
  {
   "cell_type": "code",
   "execution_count": null,
   "metadata": {},
   "outputs": [],
   "source": []
  },
  {
   "cell_type": "markdown",
   "metadata": {},
   "source": [
    "# Database"
   ]
  },
  {
   "cell_type": "markdown",
   "metadata": {},
   "source": [
    "Put all your results in an SQLite3 database (remember, SQLite stores its databases as files in your local machine - make sure to create your database in your project's data/ directory!)"
   ]
  },
  {
   "cell_type": "code",
   "execution_count": null,
   "metadata": {},
   "outputs": [],
   "source": []
  },
  {
   "cell_type": "markdown",
   "metadata": {},
   "source": [
    "Look at the data before and after the join to validate your data."
   ]
  },
  {
   "cell_type": "code",
   "execution_count": null,
   "metadata": {},
   "outputs": [],
   "source": []
  }
 ],
 "metadata": {
  "kernelspec": {
   "display_name": "bootcamp",
   "language": "python",
   "name": "python3"
  },
  "language_info": {
   "codemirror_mode": {
    "name": "ipython",
    "version": 3
   },
   "file_extension": ".py",
   "mimetype": "text/x-python",
   "name": "python",
   "nbconvert_exporter": "python",
   "pygments_lexer": "ipython3",
   "version": "3.11.0"
  }
 },
 "nbformat": 4,
 "nbformat_minor": 4
}
