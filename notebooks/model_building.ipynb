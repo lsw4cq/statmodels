{
 "cells": [
  {
   "cell_type": "markdown",
   "metadata": {},
   "source": [
    "Build a regression model."
   ]
  },
  {
   "cell_type": "code",
   "execution_count": 17,
   "metadata": {},
   "outputs": [],
   "source": [
    "import pandas as pd\n",
    "import statsmodels.api as sm\n",
    "\n",
    "df=pd.read_csv('../data/finaldf.csv')\n",
    "df.head()\n",
    "df=df.dropna(subset=['ratingyelp'])\n",
    "df=df.dropna(subset=['ratingfoursq'])"
   ]
  },
  {
   "cell_type": "markdown",
   "metadata": {},
   "source": [
    "Provide model output and an interpretation of the results. "
   ]
  },
  {
   "cell_type": "code",
   "execution_count": 18,
   "metadata": {},
   "outputs": [
    {
     "name": "stdout",
     "output_type": "stream",
     "text": [
      "distanceyelp    0\n",
      "ratingyelp      0\n",
      "free_bikes      0\n",
      "dtype: int64\n",
      "station                    object\n",
      "latitude                  float64\n",
      "longitude                 float64\n",
      "free_bikes                  int64\n",
      "empty_slots                 int64\n",
      "total_bike_cap              int64\n",
      "distanceyelp              float64\n",
      "poiname                    object\n",
      "location.address           object\n",
      "ratingyelp                float64\n",
      "distancefoursq              int64\n",
      "namefoursq                 object\n",
      "location.addressfoursq     object\n",
      "ratingfoursq              float64\n",
      "popularityyelp            float64\n",
      "categories                 object\n",
      "dtype: object\n"
     ]
    }
   ],
   "source": [
    "df['ratingyelp']=df[['ratingyelp']]*2\n",
    "print(df[['distanceyelp', 'ratingyelp', 'free_bikes']].isnull().sum())\n",
    "df['distanceyelp'] = pd.to_numeric(df['distanceyelp'], errors='coerce')\n",
    "df['ratingyelp'] = pd.to_numeric(df['ratingyelp'], errors='coerce')\n",
    "df['free_bikes'] = pd.to_numeric(df['free_bikes'], errors='coerce')\n",
    "print(df.dtypes)\n",
    "\n"
   ]
  },
  {
   "cell_type": "code",
   "execution_count": 19,
   "metadata": {},
   "outputs": [
    {
     "name": "stdout",
     "output_type": "stream",
     "text": [
      "count    617.000000\n",
      "mean       0.927066\n",
      "std        0.968429\n",
      "min        0.000000\n",
      "25%        0.000000\n",
      "50%        1.000000\n",
      "75%        2.000000\n",
      "max        4.000000\n",
      "Name: free_bikes, dtype: float64\n"
     ]
    }
   ],
   "source": [
    "X = df[['distanceyelp', 'ratingyelp']].dropna()\n",
    "y = df['free_bikes'][X.index]  # Align y with the cleaned X\n",
    "print(y.describe())\n"
   ]
  },
  {
   "cell_type": "code",
   "execution_count": 20,
   "metadata": {},
   "outputs": [
    {
     "name": "stdout",
     "output_type": "stream",
     "text": [
      "                            OLS Regression Results                            \n",
      "==============================================================================\n",
      "Dep. Variable:             free_bikes   R-squared:                       0.013\n",
      "Model:                            OLS   Adj. R-squared:                  0.010\n",
      "Method:                 Least Squares   F-statistic:                     4.120\n",
      "Date:                Sat, 19 Oct 2024   Prob (F-statistic):             0.0167\n",
      "Time:                        12:58:38   Log-Likelihood:                -851.08\n",
      "No. Observations:                 617   AIC:                             1708.\n",
      "Df Residuals:                     614   BIC:                             1721.\n",
      "Df Model:                           2                                         \n",
      "Covariance Type:            nonrobust                                         \n",
      "================================================================================\n",
      "                   coef    std err          t      P>|t|      [0.025      0.975]\n",
      "--------------------------------------------------------------------------------\n",
      "const            0.1047      0.293      0.358      0.721      -0.470       0.679\n",
      "distanceyelp  2.225e-05      0.000      0.165      0.869      -0.000       0.000\n",
      "ratingyelp       0.1042      0.037      2.844      0.005       0.032       0.176\n",
      "==============================================================================\n",
      "Omnibus:                       73.182   Durbin-Watson:                   0.024\n",
      "Prob(Omnibus):                  0.000   Jarque-Bera (JB):               97.172\n",
      "Skew:                           0.910   Prob(JB):                     7.93e-22\n",
      "Kurtosis:                       3.685   Cond. No.                     5.24e+03\n",
      "==============================================================================\n",
      "\n",
      "Notes:\n",
      "[1] Standard Errors assume that the covariance matrix of the errors is correctly specified.\n",
      "[2] The condition number is large, 5.24e+03. This might indicate that there are\n",
      "strong multicollinearity or other numerical problems.\n"
     ]
    }
   ],
   "source": [
    "X = df[['distanceyelp', 'ratingyelp']]  # Characteristics of POIs\n",
    "y = df['free_bikes'] \n",
    "\n",
    "X = sm.add_constant(X)\n",
    "model = sm.OLS(y, X)\n",
    "results = model.fit()\n",
    "\n",
    "print(results.summary())"
   ]
  },
  {
   "cell_type": "markdown",
   "metadata": {},
   "source": [
    "# Stretch"
   ]
  },
  {
   "cell_type": "markdown",
   "metadata": {},
   "source": [
    "How can you turn the regression model into a classification model?"
   ]
  },
  {
   "cell_type": "code",
   "execution_count": null,
   "metadata": {},
   "outputs": [],
   "source": []
  }
 ],
 "metadata": {
  "kernelspec": {
   "display_name": "bootcamp",
   "language": "python",
   "name": "python3"
  },
  "language_info": {
   "codemirror_mode": {
    "name": "ipython",
    "version": 3
   },
   "file_extension": ".py",
   "mimetype": "text/x-python",
   "name": "python",
   "nbconvert_exporter": "python",
   "pygments_lexer": "ipython3",
   "version": "3.11.0"
  }
 },
 "nbformat": 4,
 "nbformat_minor": 4
}
