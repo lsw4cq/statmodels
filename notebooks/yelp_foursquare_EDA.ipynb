{
 "cells": [
  {
   "cell_type": "code",
   "execution_count": 1,
   "metadata": {},
   "outputs": [],
   "source": [
    "import requests\n",
    "import os\n",
    "import pandas as pd"
   ]
  },
  {
   "cell_type": "code",
   "execution_count": 2,
   "metadata": {},
   "outputs": [
    {
     "data": {
      "text/html": [
       "<div>\n",
       "<style scoped>\n",
       "    .dataframe tbody tr th:only-of-type {\n",
       "        vertical-align: middle;\n",
       "    }\n",
       "\n",
       "    .dataframe tbody tr th {\n",
       "        vertical-align: top;\n",
       "    }\n",
       "\n",
       "    .dataframe thead th {\n",
       "        text-align: right;\n",
       "    }\n",
       "</style>\n",
       "<table border=\"1\" class=\"dataframe\">\n",
       "  <thead>\n",
       "    <tr style=\"text-align: right;\">\n",
       "      <th></th>\n",
       "      <th>name</th>\n",
       "      <th>latitude</th>\n",
       "      <th>longitude</th>\n",
       "      <th>free_bikes</th>\n",
       "      <th>empty_slots</th>\n",
       "      <th>total_bike_cap</th>\n",
       "    </tr>\n",
       "  </thead>\n",
       "  <tbody>\n",
       "    <tr>\n",
       "      <th>0</th>\n",
       "      <td>East End Library</td>\n",
       "      <td>37.539779</td>\n",
       "      <td>-77.411460</td>\n",
       "      <td>0</td>\n",
       "      <td>6</td>\n",
       "      <td>6</td>\n",
       "    </tr>\n",
       "    <tr>\n",
       "      <th>1</th>\n",
       "      <td>Sydney Park</td>\n",
       "      <td>37.546968</td>\n",
       "      <td>-77.456599</td>\n",
       "      <td>0</td>\n",
       "      <td>16</td>\n",
       "      <td>16</td>\n",
       "    </tr>\n",
       "    <tr>\n",
       "      <th>2</th>\n",
       "      <td>Broad &amp; Harrison</td>\n",
       "      <td>37.551472</td>\n",
       "      <td>-77.451937</td>\n",
       "      <td>0</td>\n",
       "      <td>19</td>\n",
       "      <td>19</td>\n",
       "    </tr>\n",
       "    <tr>\n",
       "      <th>3</th>\n",
       "      <td>Broad &amp; Lombardy</td>\n",
       "      <td>37.553716</td>\n",
       "      <td>-77.455681</td>\n",
       "      <td>0</td>\n",
       "      <td>23</td>\n",
       "      <td>23</td>\n",
       "    </tr>\n",
       "    <tr>\n",
       "      <th>4</th>\n",
       "      <td>Broad Rock Library</td>\n",
       "      <td>37.483291</td>\n",
       "      <td>-77.479390</td>\n",
       "      <td>0</td>\n",
       "      <td>10</td>\n",
       "      <td>10</td>\n",
       "    </tr>\n",
       "  </tbody>\n",
       "</table>\n",
       "</div>"
      ],
      "text/plain": [
       "                 name   latitude  longitude  free_bikes  empty_slots  \\\n",
       "0    East End Library  37.539779 -77.411460           0            6   \n",
       "1         Sydney Park  37.546968 -77.456599           0           16   \n",
       "2    Broad & Harrison  37.551472 -77.451937           0           19   \n",
       "3    Broad & Lombardy  37.553716 -77.455681           0           23   \n",
       "4  Broad Rock Library  37.483291 -77.479390           0           10   \n",
       "\n",
       "   total_bike_cap  \n",
       "0               6  \n",
       "1              16  \n",
       "2              19  \n",
       "3              23  \n",
       "4              10  "
      ]
     },
     "execution_count": 2,
     "metadata": {},
     "output_type": "execute_result"
    }
   ],
   "source": [
    "df=pd.read_csv('data.csv')\n",
    "df.head()"
   ]
  },
  {
   "cell_type": "markdown",
   "metadata": {},
   "source": [
    "# Foursquare"
   ]
  },
  {
   "cell_type": "markdown",
   "metadata": {},
   "source": [
    "Send a request to Foursquare with a small radius (1000m) for all the bike stations in your city of choice. "
   ]
  },
  {
   "cell_type": "code",
   "execution_count": 3,
   "metadata": {},
   "outputs": [],
   "source": [
    "api_key = os.environ['foursquareapi']\n",
    "llatitude = \"\"\n",
    "longitude = ''\n",
    "radius = str(1000)\n",
    "categories = '11124,13003'\n",
    "headers = {\"Accept\": \"application/json\"}\n",
    "headers['Authorization'] = api_key\n",
    "foursquaredata = pd.DataFrame()\n",
    "for index, row in df.iterrows():\n",
    "    llatitude = row['latitude']\n",
    "    longitude = row['longitude']\n",
    "    url = f\"https://api.foursquare.com/v3/places/search?ll={llatitude},{longitude}&radius={radius}&categories={categories}&fields=name,rating,location,popularity,distance\"\n",
    "    result = requests.get(url, headers=headers)\n",
    "    data = result.json()\n",
    "    result_df = pd.json_normalize(data['results'])\n",
    "    foursquaredata = pd.concat([foursquaredata, result_df], ignore_index=True)\n",
    "    foursquaredata['station'] = row['name']\n"
   ]
  },
  {
   "cell_type": "markdown",
   "metadata": {},
   "source": [
    "Parse through the response to get the POI (such as restaurants, bars, etc) details you want (ratings, name, location, etc)"
   ]
  },
  {
   "cell_type": "code",
   "execution_count": 4,
   "metadata": {},
   "outputs": [],
   "source": [
    "foursquareparsed = foursquaredata[['station','distance','name','location.address','rating','popularity']]"
   ]
  },
  {
   "cell_type": "markdown",
   "metadata": {},
   "source": [
    "Put your parsed results into a DataFrame"
   ]
  },
  {
   "cell_type": "code",
   "execution_count": null,
   "metadata": {},
   "outputs": [],
   "source": []
  },
  {
   "cell_type": "markdown",
   "metadata": {},
   "source": [
    "# Yelp"
   ]
  },
  {
   "cell_type": "markdown",
   "metadata": {},
   "source": [
    "Send a request to Yelp with a small radius (1000m) for all the bike stations in your city of choice. "
   ]
  },
  {
   "cell_type": "code",
   "execution_count": null,
   "metadata": {},
   "outputs": [],
   "source": [
    "api_key = os.environ['yelpapi']\n",
    "llatitude = \"\"\n",
    "longitude = ''\n",
    "radius = str(1000)\n",
    "categories = '11124,13003'\n",
    "headers = {\"Accept\": \"application/json\"}\n",
    "headers['Authorization'] = api_key\n",
    "foursquaredata = pd.DataFrame()\n",
    "for index, row in df.iterrows():\n",
    "    llatitude = row['latitude']\n",
    "    longitude = row['longitude']\n",
    "    url = f\"https://api.foursquare.com/v3/places/search?ll={llatitude},{longitude}&radius={radius}&categories={categories}&fields=name,rating,location,popularity,distance\"\n",
    "    result = requests.get(url, headers=headers)\n",
    "    data = result.json()\n",
    "    result_df = pd.json_normalize(data['results'])\n",
    "    foursquaredata = pd.concat([foursquaredata, result_df], ignore_index=True)\n",
    "    foursquaredata['station'] = row['name']\n"
   ]
  },
  {
   "cell_type": "markdown",
   "metadata": {},
   "source": [
    "Parse through the response to get the POI (such as restaurants, bars, etc) details you want (ratings, name, location, etc)"
   ]
  },
  {
   "cell_type": "code",
   "execution_count": null,
   "metadata": {},
   "outputs": [],
   "source": []
  },
  {
   "cell_type": "markdown",
   "metadata": {},
   "source": [
    "Put your parsed results into a DataFrame"
   ]
  },
  {
   "cell_type": "markdown",
   "metadata": {},
   "source": []
  },
  {
   "cell_type": "markdown",
   "metadata": {},
   "source": [
    "# Comparing Results"
   ]
  },
  {
   "cell_type": "markdown",
   "metadata": {},
   "source": [
    "Which API provided you with more complete data? Provide an explanation. "
   ]
  },
  {
   "cell_type": "markdown",
   "metadata": {},
   "source": []
  },
  {
   "cell_type": "markdown",
   "metadata": {},
   "source": [
    "Get the top 10 restaurants according to their rating"
   ]
  },
  {
   "cell_type": "code",
   "execution_count": null,
   "metadata": {},
   "outputs": [],
   "source": []
  }
 ],
 "metadata": {
  "kernelspec": {
   "display_name": "bootcamp",
   "language": "python",
   "name": "python3"
  },
  "language_info": {
   "codemirror_mode": {
    "name": "ipython",
    "version": 3
   },
   "file_extension": ".py",
   "mimetype": "text/x-python",
   "name": "python",
   "nbconvert_exporter": "python",
   "pygments_lexer": "ipython3",
   "version": "3.11.0"
  }
 },
 "nbformat": 4,
 "nbformat_minor": 4
}
