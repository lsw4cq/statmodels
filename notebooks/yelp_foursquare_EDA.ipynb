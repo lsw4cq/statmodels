{
 "cells": [
  {
   "cell_type": "code",
   "execution_count": 4,
   "metadata": {},
   "outputs": [],
   "source": [
    "import requests\n",
    "import os\n",
    "import pandas as pd"
   ]
  },
  {
   "cell_type": "code",
   "execution_count": 6,
   "metadata": {},
   "outputs": [
    {
     "data": {
      "text/html": [
       "<div>\n",
       "<style scoped>\n",
       "    .dataframe tbody tr th:only-of-type {\n",
       "        vertical-align: middle;\n",
       "    }\n",
       "\n",
       "    .dataframe tbody tr th {\n",
       "        vertical-align: top;\n",
       "    }\n",
       "\n",
       "    .dataframe thead th {\n",
       "        text-align: right;\n",
       "    }\n",
       "</style>\n",
       "<table border=\"1\" class=\"dataframe\">\n",
       "  <thead>\n",
       "    <tr style=\"text-align: right;\">\n",
       "      <th></th>\n",
       "      <th>name</th>\n",
       "      <th>latitude</th>\n",
       "      <th>longitude</th>\n",
       "      <th>free_bikes</th>\n",
       "      <th>empty_slots</th>\n",
       "      <th>total_bike_cap</th>\n",
       "    </tr>\n",
       "  </thead>\n",
       "  <tbody>\n",
       "    <tr>\n",
       "      <th>0</th>\n",
       "      <td>East End Library</td>\n",
       "      <td>37.539779</td>\n",
       "      <td>-77.411460</td>\n",
       "      <td>0</td>\n",
       "      <td>6</td>\n",
       "      <td>6</td>\n",
       "    </tr>\n",
       "    <tr>\n",
       "      <th>1</th>\n",
       "      <td>Sydney Park</td>\n",
       "      <td>37.546968</td>\n",
       "      <td>-77.456599</td>\n",
       "      <td>0</td>\n",
       "      <td>16</td>\n",
       "      <td>16</td>\n",
       "    </tr>\n",
       "    <tr>\n",
       "      <th>2</th>\n",
       "      <td>Broad &amp; Harrison</td>\n",
       "      <td>37.551472</td>\n",
       "      <td>-77.451937</td>\n",
       "      <td>0</td>\n",
       "      <td>19</td>\n",
       "      <td>19</td>\n",
       "    </tr>\n",
       "    <tr>\n",
       "      <th>3</th>\n",
       "      <td>Broad &amp; Lombardy</td>\n",
       "      <td>37.553716</td>\n",
       "      <td>-77.455681</td>\n",
       "      <td>0</td>\n",
       "      <td>23</td>\n",
       "      <td>23</td>\n",
       "    </tr>\n",
       "    <tr>\n",
       "      <th>4</th>\n",
       "      <td>Broad Rock Library</td>\n",
       "      <td>37.483291</td>\n",
       "      <td>-77.479390</td>\n",
       "      <td>0</td>\n",
       "      <td>10</td>\n",
       "      <td>10</td>\n",
       "    </tr>\n",
       "  </tbody>\n",
       "</table>\n",
       "</div>"
      ],
      "text/plain": [
       "                 name   latitude  longitude  free_bikes  empty_slots  \\\n",
       "0    East End Library  37.539779 -77.411460           0            6   \n",
       "1         Sydney Park  37.546968 -77.456599           0           16   \n",
       "2    Broad & Harrison  37.551472 -77.451937           0           19   \n",
       "3    Broad & Lombardy  37.553716 -77.455681           0           23   \n",
       "4  Broad Rock Library  37.483291 -77.479390           0           10   \n",
       "\n",
       "   total_bike_cap  \n",
       "0               6  \n",
       "1              16  \n",
       "2              19  \n",
       "3              23  \n",
       "4              10  "
      ]
     },
     "execution_count": 6,
     "metadata": {},
     "output_type": "execute_result"
    }
   ],
   "source": [
    "df=pd.read_csv('data.csv')\n",
    "df.head()"
   ]
  },
  {
   "cell_type": "markdown",
   "metadata": {},
   "source": [
    "# Foursquare"
   ]
  },
  {
   "cell_type": "markdown",
   "metadata": {},
   "source": [
    "Send a request to Foursquare with a small radius (1000m) for all the bike stations in your city of choice. "
   ]
  },
  {
   "cell_type": "code",
   "execution_count": 11,
   "metadata": {},
   "outputs": [
    {
     "name": "stdout",
     "output_type": "stream",
     "text": [
      "['East End Library' 'Sydney Park' 'Broad & Harrison' 'Broad & Lombardy'\n",
      " 'Broad Rock Library' 'Abner Clay Park' 'Center Stage'\n",
      " 'Main Street Station' 'Carter Jones Park' 'Kanawha Plaza' 'Monroe Park'\n",
      " 'Battery Park' 'City Hall' 'Blackwell' 'Fairmont' 'Science Museum'\n",
      " 'Browns Island' 'Jefferson Ave' 'Chimborazo Park' 'Canal Walk'\n",
      " 'Pleasants Park-Oregon Hill' 'North Avenue Library'\n",
      " 'Petronius Jones Park-Randolph' 'Main Library']\n"
     ]
    }
   ],
   "source": [
    "api_key = os.environ['foursquareapi']\n",
    "latitude = \"\"\n",
    "longitude = ''\n",
    "radius = str(1000)\n",
    "categories = '11124,13003'\n",
    "headers = {\"Accept\": \"application/json\"}\n",
    "headers['Authorization'] = api_key\n",
    "foursquaredata = pd.DataFrame()\n",
    "\n",
    "for index, row in df.iterrows():\n",
    "    latitude = row['latitude']\n",
    "    longitude = row['longitude']\n",
    "    url = f\"https://api.foursquare.com/v3/places/search?ll={latitude},{longitude}&radius={radius}&categories={categories}&fields=name,rating,location,popularity,distance,categories\"\n",
    "    result = requests.get(url, headers=headers)\n",
    "    data = result.json()\n",
    "    result_df = pd.json_normalize(data.get('results', []))\n",
    "    if not result_df.empty:\n",
    "        result_df['station'] = row['name']\n",
    "        foursquaredata = pd.concat([foursquaredata, result_df], ignore_index=True)\n",
    "\n",
    "print(foursquaredata['station'].unique())  # Check unique stations in the final DataFrame\n"
   ]
  },
  {
   "cell_type": "code",
   "execution_count": 235,
   "metadata": {},
   "outputs": [
    {
     "data": {
      "text/plain": [
       "array(['East End Library', 'Sydney Park', 'Broad & Harrison',\n",
       "       'Broad & Lombardy', 'Broad Rock Library', 'Abner Clay Park',\n",
       "       'Center Stage', 'Main Street Station', 'Carter Jones Park',\n",
       "       'Kanawha Plaza', 'Monroe Park', 'Battery Park', 'City Hall',\n",
       "       'Blackwell', 'Fairmont', 'Science Museum', 'Browns Island',\n",
       "       'Jefferson Ave', 'Chimborazo Park', 'Canal Walk',\n",
       "       'Pleasants Park-Oregon Hill', 'North Avenue Library',\n",
       "       'Petronius Jones Park-Randolph', 'Main Library'], dtype=object)"
      ]
     },
     "execution_count": 235,
     "metadata": {},
     "output_type": "execute_result"
    }
   ],
   "source": [
    "foursquaredata['station'].unique()"
   ]
  },
  {
   "cell_type": "markdown",
   "metadata": {},
   "source": [
    "Parse through the response to get the POI (such as restaurants, bars, etc) details you want (ratings, name, location, etc). "
   ]
  },
  {
   "cell_type": "code",
   "execution_count": 22,
   "metadata": {},
   "outputs": [
    {
     "data": {
      "text/plain": [
       "56"
      ]
     },
     "execution_count": 22,
     "metadata": {},
     "output_type": "execute_result"
    }
   ],
   "source": [
    "foursquaredata['rating'].isnull().sum()"
   ]
  },
  {
   "cell_type": "markdown",
   "metadata": {},
   "source": [
    "There are 56 null values in foursquare ratings but I am keeping them in for now because I want to see them with the yelp data in the next stage. The data may be offices and that makes sense that no one has rated them yet."
   ]
  },
  {
   "cell_type": "code",
   "execution_count": 12,
   "metadata": {},
   "outputs": [],
   "source": [
    "foursquareparsed = foursquaredata[['station','distance','name','location.address','rating','popularity','categories']]\n",
    "foursquareparsed.loc[:, 'categories']= foursquareparsed['categories'].apply(lambda x: [cat['name'] for cat in x])"
   ]
  },
  {
   "cell_type": "code",
   "execution_count": 13,
   "metadata": {},
   "outputs": [],
   "source": [
    "foursquareparsed.loc[:, 'categories'] = foursquareparsed['categories'].apply(lambda x: 'bar' if any('bar' in category.lower() for category in x) or any('pub' in category.lower() for category in x) or any('restaurant' in category.lower() for category in x) else 'office')"
   ]
  },
  {
   "cell_type": "markdown",
   "metadata": {},
   "source": [
    "Identifying and then dealing with duplicates."
   ]
  },
  {
   "cell_type": "code",
   "execution_count": 14,
   "metadata": {},
   "outputs": [],
   "source": [
    "namecount = foursquareparsed.groupby(['name', 'station']).size().reset_index(name='count')\n",
    "namecount[namecount['count']>1].sort_values(by='count',ascending=False)\n",
    "foursquareparsed=foursquareparsed.drop_duplicates(subset='name')\n"
   ]
  },
  {
   "cell_type": "markdown",
   "metadata": {},
   "source": [
    "Results into CSV for next steps"
   ]
  },
  {
   "cell_type": "code",
   "execution_count": null,
   "metadata": {},
   "outputs": [],
   "source": [
    "foursquareparsed.to_csv('foursqdata.csv', index=False)"
   ]
  },
  {
   "cell_type": "markdown",
   "metadata": {},
   "source": [
    "# Yelp"
   ]
  },
  {
   "cell_type": "markdown",
   "metadata": {},
   "source": [
    "Send a request to Yelp with a small radius (1000m) for all the bike stations in your city of choice. "
   ]
  },
  {
   "cell_type": "code",
   "execution_count": 7,
   "metadata": {},
   "outputs": [
    {
     "name": "stdout",
     "output_type": "stream",
     "text": [
      "Status: 200\n",
      "Status: 200\n",
      "Status: 200\n",
      "Status: 200\n",
      "Status: 200\n",
      "Status: 200\n",
      "Status: 200\n",
      "Status: 200\n",
      "Status: 200\n",
      "Status: 200\n",
      "Status: 200\n",
      "Status: 200\n",
      "Status: 200\n",
      "Status: 200\n",
      "Status: 200\n",
      "Status: 200\n",
      "Status: 200\n",
      "Status: 200\n",
      "Status: 200\n",
      "Status: 200\n",
      "Status: 200\n",
      "Status: 200\n",
      "Status: 200\n",
      "Status: 200\n",
      "Status: 200\n"
     ]
    },
    {
     "name": "stderr",
     "output_type": "stream",
     "text": [
      "/var/folders/gf/02rbvjg50t91xdp2ngcwh8vc0000gn/T/ipykernel_26317/2148749149.py:20: FutureWarning: The behavior of DataFrame concatenation with empty or all-NA entries is deprecated. In a future version, this will no longer exclude empty or all-NA columns when determining the result dtypes. To retain the old behavior, exclude the relevant entries before the concat operation.\n",
      "  yelpdata = pd.concat(yelpdataframes, ignore_index=True) if yelpdataframes else pd.DataFrame()\n"
     ]
    }
   ],
   "source": [
    "yelp_api_key = os.environ['yelpapi']\n",
    "latitude = \"\"\n",
    "longitude = ''\n",
    "radius = str(1000)\n",
    "categories = 'bars,offices'\n",
    "headers = {\"Accept\": \"application/json\"}\n",
    "headers['Authorization'] = f\"Bearer {yelp_api_key}\"\n",
    "yelpdataframes = []\n",
    "for index, row in df.iterrows():\n",
    "    latitude = row['latitude']\n",
    "    longitude = row['longitude']\n",
    "    url = f\"https://api.yelp.com/v3/businesses/search?latitude={latitude}&longitude={longitude}&radius={radius}&categories={categories}\"\n",
    "    result = requests.get(url, headers=headers)\n",
    "    print(f\"Status: {result.status_code}\")\n",
    "    data = result.json()\n",
    "    result_df = pd.json_normalize(data.get('businesses', []))\n",
    "    if not result_df.empty:\n",
    "        result_df['station'] = row['name']\n",
    "        yelpdataframes.append(result_df)\n",
    "yelpdata = pd.concat(yelpdataframes, ignore_index=True) if yelpdataframes else pd.DataFrame()\n"
   ]
  },
  {
   "cell_type": "markdown",
   "metadata": {},
   "source": [
    "Confirming all stations are present. Parsing data and then renaming column to match Foursquare. "
   ]
  },
  {
   "cell_type": "code",
   "execution_count": 18,
   "metadata": {},
   "outputs": [
    {
     "data": {
      "text/plain": [
       "Index(['id', 'alias', 'name', 'image_url', 'is_closed', 'url', 'review_count',\n",
       "       'categories', 'rating', 'transactions', 'price', 'phone',\n",
       "       'display_phone', 'distance', 'business_hours', 'coordinates.latitude',\n",
       "       'coordinates.longitude', 'location.address1', 'location.address2',\n",
       "       'location.address3', 'location.city', 'location.zip_code',\n",
       "       'location.country', 'location.state', 'location.display_address',\n",
       "       'attributes.business_temp_closed', 'attributes.menu_url',\n",
       "       'attributes.open24_hours', 'attributes.waitlist_reservation',\n",
       "       'station'],\n",
       "      dtype='object')"
      ]
     },
     "execution_count": 18,
     "metadata": {},
     "output_type": "execute_result"
    }
   ],
   "source": [
    "yelpdata['station'].unique()\n",
    "yelpdata.keys()"
   ]
  },
  {
   "cell_type": "code",
   "execution_count": 16,
   "metadata": {},
   "outputs": [
    {
     "data": {
      "text/plain": [
       "352"
      ]
     },
     "execution_count": 16,
     "metadata": {},
     "output_type": "execute_result"
    }
   ],
   "source": [
    "len(yelpdata)"
   ]
  },
  {
   "cell_type": "code",
   "execution_count": 20,
   "metadata": {},
   "outputs": [
    {
     "data": {
      "text/plain": [
       "0"
      ]
     },
     "execution_count": 20,
     "metadata": {},
     "output_type": "execute_result"
    }
   ],
   "source": [
    "yelpdata['rating'].isnull().sum()"
   ]
  },
  {
   "cell_type": "code",
   "execution_count": 9,
   "metadata": {},
   "outputs": [],
   "source": [
    "yelpparsed = yelpdata[['station','distance','name','location.address1','rating']]\n",
    "yelpparsed=yelpparsed.rename(columns={'location.address1': 'location.address'})\n"
   ]
  },
  {
   "cell_type": "markdown",
   "metadata": {},
   "source": [
    "### Dealing with duplicates"
   ]
  },
  {
   "cell_type": "code",
   "execution_count": 10,
   "metadata": {},
   "outputs": [],
   "source": [
    "namecount = yelpparsed.groupby(['name', 'station']).size().reset_index(name='count')\n",
    "namecount[namecount['count']>1].sort_values(by='count',ascending=False)\n",
    "yelpparsed=yelpparsed.drop_duplicates(subset='name')\n"
   ]
  },
  {
   "cell_type": "markdown",
   "metadata": {},
   "source": [
    "Results into a CSV for next steps"
   ]
  },
  {
   "cell_type": "code",
   "execution_count": null,
   "metadata": {},
   "outputs": [],
   "source": [
    "yelpparsed.to_csv('yelpdata.csv', index=False)"
   ]
  },
  {
   "cell_type": "markdown",
   "metadata": {},
   "source": [
    "# Comparing Results"
   ]
  },
  {
   "cell_type": "markdown",
   "metadata": {},
   "source": [
    "Which API provided you with more complete data? Provide an explanation. "
   ]
  },
  {
   "cell_type": "markdown",
   "metadata": {},
   "source": [
    "Foursquare provided more complete data because they provide clear documentation around categories and filtering. Yelp's lack of category definitions means that there is more uncertainty around what you are able to pull. "
   ]
  },
  {
   "cell_type": "markdown",
   "metadata": {},
   "source": [
    "Get the top 10 restaurants according to their rating"
   ]
  },
  {
   "cell_type": "markdown",
   "metadata": {},
   "source": [
    "Yelp top 10"
   ]
  },
  {
   "cell_type": "code",
   "execution_count": 24,
   "metadata": {},
   "outputs": [
    {
     "data": {
      "text/html": [
       "<div>\n",
       "<style scoped>\n",
       "    .dataframe tbody tr th:only-of-type {\n",
       "        vertical-align: middle;\n",
       "    }\n",
       "\n",
       "    .dataframe tbody tr th {\n",
       "        vertical-align: top;\n",
       "    }\n",
       "\n",
       "    .dataframe thead th {\n",
       "        text-align: right;\n",
       "    }\n",
       "</style>\n",
       "<table border=\"1\" class=\"dataframe\">\n",
       "  <thead>\n",
       "    <tr style=\"text-align: right;\">\n",
       "      <th></th>\n",
       "      <th>station</th>\n",
       "      <th>distance</th>\n",
       "      <th>name</th>\n",
       "      <th>location.address</th>\n",
       "      <th>rating</th>\n",
       "    </tr>\n",
       "  </thead>\n",
       "  <tbody>\n",
       "    <tr>\n",
       "      <th>0</th>\n",
       "      <td>Sydney Park</td>\n",
       "      <td>421.689324</td>\n",
       "      <td>Trouvaille</td>\n",
       "      <td>203 N Lombardy St</td>\n",
       "      <td>5.0</td>\n",
       "    </tr>\n",
       "    <tr>\n",
       "      <th>1</th>\n",
       "      <td>Broad &amp; Harrison</td>\n",
       "      <td>919.349422</td>\n",
       "      <td>Penny's Wine Shop</td>\n",
       "      <td>405 Brook Rd</td>\n",
       "      <td>4.8</td>\n",
       "    </tr>\n",
       "    <tr>\n",
       "      <th>2</th>\n",
       "      <td>Science Museum</td>\n",
       "      <td>941.927433</td>\n",
       "      <td>Beaucoup</td>\n",
       "      <td>111 N Robinson St</td>\n",
       "      <td>4.7</td>\n",
       "    </tr>\n",
       "    <tr>\n",
       "      <th>3</th>\n",
       "      <td>Sydney Park</td>\n",
       "      <td>366.955387</td>\n",
       "      <td>Celladora Wines</td>\n",
       "      <td>111B N Lombardy St</td>\n",
       "      <td>4.7</td>\n",
       "    </tr>\n",
       "    <tr>\n",
       "      <th>4</th>\n",
       "      <td>Battery Park</td>\n",
       "      <td>626.506167</td>\n",
       "      <td>Harlym Blue’Z</td>\n",
       "      <td>210 W Brookland Park Blvd</td>\n",
       "      <td>4.6</td>\n",
       "    </tr>\n",
       "    <tr>\n",
       "      <th>5</th>\n",
       "      <td>Browns Island</td>\n",
       "      <td>1007.119521</td>\n",
       "      <td>Basic City Beer</td>\n",
       "      <td>212 W 6th St</td>\n",
       "      <td>4.6</td>\n",
       "    </tr>\n",
       "    <tr>\n",
       "      <th>6</th>\n",
       "      <td>Abner Clay Park</td>\n",
       "      <td>808.654914</td>\n",
       "      <td>Lillie Pearl</td>\n",
       "      <td>418 E Grace St</td>\n",
       "      <td>4.5</td>\n",
       "    </tr>\n",
       "    <tr>\n",
       "      <th>7</th>\n",
       "      <td>Battery Park</td>\n",
       "      <td>570.268715</td>\n",
       "      <td>Fuzzy Cactus</td>\n",
       "      <td>221 Brookland Park Blvd</td>\n",
       "      <td>4.5</td>\n",
       "    </tr>\n",
       "    <tr>\n",
       "      <th>8</th>\n",
       "      <td>Sydney Park</td>\n",
       "      <td>496.416882</td>\n",
       "      <td>Heritage</td>\n",
       "      <td>1627 W Main St</td>\n",
       "      <td>4.5</td>\n",
       "    </tr>\n",
       "    <tr>\n",
       "      <th>9</th>\n",
       "      <td>Science Museum</td>\n",
       "      <td>963.244101</td>\n",
       "      <td>Parlay</td>\n",
       "      <td>3117 W Leigh St</td>\n",
       "      <td>4.4</td>\n",
       "    </tr>\n",
       "  </tbody>\n",
       "</table>\n",
       "</div>"
      ],
      "text/plain": [
       "            station     distance               name  \\\n",
       "0       Sydney Park   421.689324         Trouvaille   \n",
       "1  Broad & Harrison   919.349422  Penny's Wine Shop   \n",
       "2    Science Museum   941.927433           Beaucoup   \n",
       "3       Sydney Park   366.955387    Celladora Wines   \n",
       "4      Battery Park   626.506167      Harlym Blue’Z   \n",
       "5     Browns Island  1007.119521    Basic City Beer   \n",
       "6   Abner Clay Park   808.654914       Lillie Pearl   \n",
       "7      Battery Park   570.268715       Fuzzy Cactus   \n",
       "8       Sydney Park   496.416882           Heritage   \n",
       "9    Science Museum   963.244101             Parlay   \n",
       "\n",
       "            location.address  rating  \n",
       "0          203 N Lombardy St     5.0  \n",
       "1               405 Brook Rd     4.8  \n",
       "2          111 N Robinson St     4.7  \n",
       "3         111B N Lombardy St     4.7  \n",
       "4  210 W Brookland Park Blvd     4.6  \n",
       "5               212 W 6th St     4.6  \n",
       "6             418 E Grace St     4.5  \n",
       "7    221 Brookland Park Blvd     4.5  \n",
       "8             1627 W Main St     4.5  \n",
       "9            3117 W Leigh St     4.4  "
      ]
     },
     "execution_count": 24,
     "metadata": {},
     "output_type": "execute_result"
    }
   ],
   "source": [
    "yelptop10 = yelpparsed.sort_values(by='rating', ascending=False).reset_index(drop=True).head(10)\n",
    "yelptop10"
   ]
  },
  {
   "cell_type": "markdown",
   "metadata": {},
   "source": [
    "Foursquare top 10"
   ]
  },
  {
   "cell_type": "code",
   "execution_count": 25,
   "metadata": {},
   "outputs": [
    {
     "data": {
      "text/html": [
       "<div>\n",
       "<style scoped>\n",
       "    .dataframe tbody tr th:only-of-type {\n",
       "        vertical-align: middle;\n",
       "    }\n",
       "\n",
       "    .dataframe tbody tr th {\n",
       "        vertical-align: top;\n",
       "    }\n",
       "\n",
       "    .dataframe thead th {\n",
       "        text-align: right;\n",
       "    }\n",
       "</style>\n",
       "<table border=\"1\" class=\"dataframe\">\n",
       "  <thead>\n",
       "    <tr style=\"text-align: right;\">\n",
       "      <th></th>\n",
       "      <th>station</th>\n",
       "      <th>distance</th>\n",
       "      <th>name</th>\n",
       "      <th>location.address</th>\n",
       "      <th>rating</th>\n",
       "      <th>popularity</th>\n",
       "      <th>categories</th>\n",
       "    </tr>\n",
       "  </thead>\n",
       "  <tbody>\n",
       "    <tr>\n",
       "      <th>0</th>\n",
       "      <td>East End Library</td>\n",
       "      <td>773</td>\n",
       "      <td>Union Market</td>\n",
       "      <td>2306 Jefferson Ave</td>\n",
       "      <td>9.4</td>\n",
       "      <td>0.984966</td>\n",
       "      <td>bar</td>\n",
       "    </tr>\n",
       "    <tr>\n",
       "      <th>1</th>\n",
       "      <td>Jefferson Ave</td>\n",
       "      <td>443</td>\n",
       "      <td>Dutch &amp; Co.</td>\n",
       "      <td>400 N 27th St</td>\n",
       "      <td>9.2</td>\n",
       "      <td>0.497622</td>\n",
       "      <td>bar</td>\n",
       "    </tr>\n",
       "    <tr>\n",
       "      <th>2</th>\n",
       "      <td>Science Museum</td>\n",
       "      <td>913</td>\n",
       "      <td>Hardywood Park Craft Brewery</td>\n",
       "      <td>2408 Ownby Ln</td>\n",
       "      <td>9.1</td>\n",
       "      <td>0.993189</td>\n",
       "      <td>bar</td>\n",
       "    </tr>\n",
       "    <tr>\n",
       "      <th>3</th>\n",
       "      <td>Jefferson Ave</td>\n",
       "      <td>595</td>\n",
       "      <td>23rd &amp; Main</td>\n",
       "      <td>2300 E Main St</td>\n",
       "      <td>8.9</td>\n",
       "      <td>0.929377</td>\n",
       "      <td>bar</td>\n",
       "    </tr>\n",
       "    <tr>\n",
       "      <th>4</th>\n",
       "      <td>Science Museum</td>\n",
       "      <td>941</td>\n",
       "      <td>Commercial Taphouse &amp; Grill</td>\n",
       "      <td>111 N Robinson St</td>\n",
       "      <td>8.8</td>\n",
       "      <td>0.931781</td>\n",
       "      <td>bar</td>\n",
       "    </tr>\n",
       "    <tr>\n",
       "      <th>5</th>\n",
       "      <td>Main Street Station</td>\n",
       "      <td>192</td>\n",
       "      <td>LuLu's</td>\n",
       "      <td>21 N 17th St</td>\n",
       "      <td>8.7</td>\n",
       "      <td>0.985245</td>\n",
       "      <td>bar</td>\n",
       "    </tr>\n",
       "    <tr>\n",
       "      <th>6</th>\n",
       "      <td>East End Library</td>\n",
       "      <td>912</td>\n",
       "      <td>Liberty Public House</td>\n",
       "      <td>418 N 25th St</td>\n",
       "      <td>8.7</td>\n",
       "      <td>0.975994</td>\n",
       "      <td>bar</td>\n",
       "    </tr>\n",
       "    <tr>\n",
       "      <th>7</th>\n",
       "      <td>Main Street Station</td>\n",
       "      <td>880</td>\n",
       "      <td>Patrick Henry's Pub &amp; Grille</td>\n",
       "      <td>2300 E Broad St</td>\n",
       "      <td>8.6</td>\n",
       "      <td>0.983712</td>\n",
       "      <td>bar</td>\n",
       "    </tr>\n",
       "    <tr>\n",
       "      <th>8</th>\n",
       "      <td>Sydney Park</td>\n",
       "      <td>295</td>\n",
       "      <td>Beauvine Burger Concept</td>\n",
       "      <td>1501 W Main St</td>\n",
       "      <td>8.5</td>\n",
       "      <td>0.988468</td>\n",
       "      <td>bar</td>\n",
       "    </tr>\n",
       "    <tr>\n",
       "      <th>9</th>\n",
       "      <td>Main Street Station</td>\n",
       "      <td>552</td>\n",
       "      <td>Station 2</td>\n",
       "      <td>2016 E Main St</td>\n",
       "      <td>8.5</td>\n",
       "      <td>0.994478</td>\n",
       "      <td>bar</td>\n",
       "    </tr>\n",
       "  </tbody>\n",
       "</table>\n",
       "</div>"
      ],
      "text/plain": [
       "               station  distance                          name  \\\n",
       "0     East End Library       773                  Union Market   \n",
       "1        Jefferson Ave       443                   Dutch & Co.   \n",
       "2       Science Museum       913  Hardywood Park Craft Brewery   \n",
       "3        Jefferson Ave       595                   23rd & Main   \n",
       "4       Science Museum       941   Commercial Taphouse & Grill   \n",
       "5  Main Street Station       192                        LuLu's   \n",
       "6     East End Library       912          Liberty Public House   \n",
       "7  Main Street Station       880  Patrick Henry's Pub & Grille   \n",
       "8          Sydney Park       295       Beauvine Burger Concept   \n",
       "9  Main Street Station       552                     Station 2   \n",
       "\n",
       "     location.address  rating  popularity categories  \n",
       "0  2306 Jefferson Ave     9.4    0.984966        bar  \n",
       "1       400 N 27th St     9.2    0.497622        bar  \n",
       "2       2408 Ownby Ln     9.1    0.993189        bar  \n",
       "3      2300 E Main St     8.9    0.929377        bar  \n",
       "4   111 N Robinson St     8.8    0.931781        bar  \n",
       "5        21 N 17th St     8.7    0.985245        bar  \n",
       "6       418 N 25th St     8.7    0.975994        bar  \n",
       "7     2300 E Broad St     8.6    0.983712        bar  \n",
       "8      1501 W Main St     8.5    0.988468        bar  \n",
       "9      2016 E Main St     8.5    0.994478        bar  "
      ]
     },
     "execution_count": 25,
     "metadata": {},
     "output_type": "execute_result"
    }
   ],
   "source": [
    "foursqtop10 = foursquareparsed.sort_values(by='rating', ascending=False).reset_index(drop=True).head(10)\n",
    "foursqtop10"
   ]
  },
  {
   "cell_type": "code",
   "execution_count": null,
   "metadata": {},
   "outputs": [],
   "source": []
  }
 ],
 "metadata": {
  "kernelspec": {
   "display_name": "bootcamp",
   "language": "python",
   "name": "python3"
  },
  "language_info": {
   "codemirror_mode": {
    "name": "ipython",
    "version": 3
   },
   "file_extension": ".py",
   "mimetype": "text/x-python",
   "name": "python",
   "nbconvert_exporter": "python",
   "pygments_lexer": "ipython3",
   "version": "3.11.0"
  }
 },
 "nbformat": 4,
 "nbformat_minor": 4
}
