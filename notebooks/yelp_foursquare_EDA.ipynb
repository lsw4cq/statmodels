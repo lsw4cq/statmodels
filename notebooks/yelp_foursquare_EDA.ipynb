{
 "cells": [
  {
   "cell_type": "code",
   "execution_count": 32,
   "metadata": {},
   "outputs": [],
   "source": [
    "import requests\n",
    "import os\n",
    "import pandas as pd\n",
    "import matplotlib.pyplot as plt\n",
    "import seaborn as sns"
   ]
  },
  {
   "cell_type": "code",
   "execution_count": 14,
   "metadata": {},
   "outputs": [
    {
     "data": {
      "text/html": [
       "<div>\n",
       "<style scoped>\n",
       "    .dataframe tbody tr th:only-of-type {\n",
       "        vertical-align: middle;\n",
       "    }\n",
       "\n",
       "    .dataframe tbody tr th {\n",
       "        vertical-align: top;\n",
       "    }\n",
       "\n",
       "    .dataframe thead th {\n",
       "        text-align: right;\n",
       "    }\n",
       "</style>\n",
       "<table border=\"1\" class=\"dataframe\">\n",
       "  <thead>\n",
       "    <tr style=\"text-align: right;\">\n",
       "      <th></th>\n",
       "      <th>name</th>\n",
       "      <th>latitude</th>\n",
       "      <th>longitude</th>\n",
       "      <th>free_bikes</th>\n",
       "      <th>empty_slots</th>\n",
       "      <th>total_bike_cap</th>\n",
       "      <th>uid</th>\n",
       "      <th>renting</th>\n",
       "      <th>returning</th>\n",
       "      <th>last_updated</th>\n",
       "      <th>has_ebikes</th>\n",
       "      <th>ebikes</th>\n",
       "      <th>payment</th>\n",
       "      <th>payment-terminal</th>\n",
       "      <th>slots</th>\n",
       "      <th>rental_uris.android</th>\n",
       "      <th>rental_uris.ios</th>\n",
       "    </tr>\n",
       "  </thead>\n",
       "  <tbody>\n",
       "    <tr>\n",
       "      <th>0</th>\n",
       "      <td>Fairfax Dr &amp; Wilson Blvd</td>\n",
       "      <td>38.885801</td>\n",
       "      <td>-77.097745</td>\n",
       "      <td>5</td>\n",
       "      <td>6</td>\n",
       "      <td>11</td>\n",
       "      <td>08251ded-1f3f-11e7-bf6b-3863bb334450</td>\n",
       "      <td>1</td>\n",
       "      <td>1</td>\n",
       "      <td>1729395530</td>\n",
       "      <td>True</td>\n",
       "      <td>3</td>\n",
       "      <td>['key', 'creditcard']</td>\n",
       "      <td>True</td>\n",
       "      <td>12</td>\n",
       "      <td>https://dc.lft.to/lastmile_qr_scan</td>\n",
       "      <td>https://dc.lft.to/lastmile_qr_scan</td>\n",
       "    </tr>\n",
       "    <tr>\n",
       "      <th>1</th>\n",
       "      <td>South St &amp; University Dr</td>\n",
       "      <td>38.844249</td>\n",
       "      <td>-77.305336</td>\n",
       "      <td>11</td>\n",
       "      <td>1</td>\n",
       "      <td>12</td>\n",
       "      <td>1877158937567185816</td>\n",
       "      <td>1</td>\n",
       "      <td>1</td>\n",
       "      <td>1729395487</td>\n",
       "      <td>True</td>\n",
       "      <td>0</td>\n",
       "      <td>['key', 'creditcard']</td>\n",
       "      <td>True</td>\n",
       "      <td>12</td>\n",
       "      <td>https://dc.lft.to/lastmile_qr_scan</td>\n",
       "      <td>https://dc.lft.to/lastmile_qr_scan</td>\n",
       "    </tr>\n",
       "    <tr>\n",
       "      <th>2</th>\n",
       "      <td>White Oak Rec Center</td>\n",
       "      <td>39.046143</td>\n",
       "      <td>-76.975723</td>\n",
       "      <td>6</td>\n",
       "      <td>9</td>\n",
       "      <td>15</td>\n",
       "      <td>2213781a-5c69-43eb-9b33-346d61e7e1ba</td>\n",
       "      <td>1</td>\n",
       "      <td>1</td>\n",
       "      <td>1729395477</td>\n",
       "      <td>True</td>\n",
       "      <td>0</td>\n",
       "      <td>['key', 'creditcard']</td>\n",
       "      <td>True</td>\n",
       "      <td>15</td>\n",
       "      <td>https://dc.lft.to/lastmile_qr_scan</td>\n",
       "      <td>https://dc.lft.to/lastmile_qr_scan</td>\n",
       "    </tr>\n",
       "    <tr>\n",
       "      <th>3</th>\n",
       "      <td>Fessenden St &amp; Wisconsin Ave NW</td>\n",
       "      <td>38.954812</td>\n",
       "      <td>-77.082426</td>\n",
       "      <td>1</td>\n",
       "      <td>14</td>\n",
       "      <td>15</td>\n",
       "      <td>08254529-1f3f-11e7-bf6b-3863bb334450</td>\n",
       "      <td>1</td>\n",
       "      <td>1</td>\n",
       "      <td>1729395578</td>\n",
       "      <td>True</td>\n",
       "      <td>0</td>\n",
       "      <td>['key', 'creditcard']</td>\n",
       "      <td>True</td>\n",
       "      <td>15</td>\n",
       "      <td>https://dc.lft.to/lastmile_qr_scan</td>\n",
       "      <td>https://dc.lft.to/lastmile_qr_scan</td>\n",
       "    </tr>\n",
       "    <tr>\n",
       "      <th>4</th>\n",
       "      <td>Fenton St &amp; Gist Ave</td>\n",
       "      <td>38.989724</td>\n",
       "      <td>-77.023854</td>\n",
       "      <td>6</td>\n",
       "      <td>5</td>\n",
       "      <td>11</td>\n",
       "      <td>0825ac97-1f3f-11e7-bf6b-3863bb334450</td>\n",
       "      <td>1</td>\n",
       "      <td>1</td>\n",
       "      <td>1729395538</td>\n",
       "      <td>True</td>\n",
       "      <td>5</td>\n",
       "      <td>['key', 'creditcard']</td>\n",
       "      <td>True</td>\n",
       "      <td>11</td>\n",
       "      <td>https://dc.lft.to/lastmile_qr_scan</td>\n",
       "      <td>https://dc.lft.to/lastmile_qr_scan</td>\n",
       "    </tr>\n",
       "  </tbody>\n",
       "</table>\n",
       "</div>"
      ],
      "text/plain": [
       "                              name   latitude  longitude  free_bikes  \\\n",
       "0         Fairfax Dr & Wilson Blvd  38.885801 -77.097745           5   \n",
       "1         South St & University Dr  38.844249 -77.305336          11   \n",
       "2             White Oak Rec Center  39.046143 -76.975723           6   \n",
       "3  Fessenden St & Wisconsin Ave NW  38.954812 -77.082426           1   \n",
       "4             Fenton St & Gist Ave  38.989724 -77.023854           6   \n",
       "\n",
       "   empty_slots  total_bike_cap                                   uid  renting  \\\n",
       "0            6              11  08251ded-1f3f-11e7-bf6b-3863bb334450        1   \n",
       "1            1              12                   1877158937567185816        1   \n",
       "2            9              15  2213781a-5c69-43eb-9b33-346d61e7e1ba        1   \n",
       "3           14              15  08254529-1f3f-11e7-bf6b-3863bb334450        1   \n",
       "4            5              11  0825ac97-1f3f-11e7-bf6b-3863bb334450        1   \n",
       "\n",
       "   returning  last_updated  has_ebikes  ebikes                payment  \\\n",
       "0          1    1729395530        True       3  ['key', 'creditcard']   \n",
       "1          1    1729395487        True       0  ['key', 'creditcard']   \n",
       "2          1    1729395477        True       0  ['key', 'creditcard']   \n",
       "3          1    1729395578        True       0  ['key', 'creditcard']   \n",
       "4          1    1729395538        True       5  ['key', 'creditcard']   \n",
       "\n",
       "   payment-terminal  slots                 rental_uris.android  \\\n",
       "0              True     12  https://dc.lft.to/lastmile_qr_scan   \n",
       "1              True     12  https://dc.lft.to/lastmile_qr_scan   \n",
       "2              True     15  https://dc.lft.to/lastmile_qr_scan   \n",
       "3              True     15  https://dc.lft.to/lastmile_qr_scan   \n",
       "4              True     11  https://dc.lft.to/lastmile_qr_scan   \n",
       "\n",
       "                      rental_uris.ios  \n",
       "0  https://dc.lft.to/lastmile_qr_scan  \n",
       "1  https://dc.lft.to/lastmile_qr_scan  \n",
       "2  https://dc.lft.to/lastmile_qr_scan  \n",
       "3  https://dc.lft.to/lastmile_qr_scan  \n",
       "4  https://dc.lft.to/lastmile_qr_scan  "
      ]
     },
     "execution_count": 14,
     "metadata": {},
     "output_type": "execute_result"
    }
   ],
   "source": [
    "df=pd.read_csv('../data/bikedata.csv')\n",
    "df.head()"
   ]
  },
  {
   "cell_type": "markdown",
   "metadata": {},
   "source": [
    "# Foursquare"
   ]
  },
  {
   "cell_type": "markdown",
   "metadata": {},
   "source": [
    "Send a request to Foursquare with a small radius (1000m) for all the bike stations in your city of choice. "
   ]
  },
  {
   "cell_type": "code",
   "execution_count": 19,
   "metadata": {},
   "outputs": [],
   "source": [
    "api_key = os.environ['foursquareapi']\n",
    "latitude = \"\"\n",
    "longitude = ''\n",
    "radius = str(500)\n",
    "categories = '13003,12057,12061'\n",
    "headers = {\"Accept\": \"application/json\"}\n",
    "headers['Authorization'] = api_key\n",
    "foursquaredata = pd.DataFrame()\n",
    "\n",
    "for index, row in df.iterrows():\n",
    "    latitude = row['latitude']\n",
    "    longitude = row['longitude']\n",
    "    url = f\"https://api.foursquare.com/v3/places/search?ll={latitude},{longitude}&radius={radius}&categories={categories}&fields=name,rating,location,popularity,distance,categories\"\n",
    "    result = requests.get(url, headers=headers)\n",
    "    data = result.json()\n",
    "    result_df = pd.json_normalize(data.get('results', []))\n",
    "    if not result_df.empty:\n",
    "        result_df['station'] = row['name']\n",
    "        foursquaredata = pd.concat([foursquaredata, result_df], ignore_index=True)\n",
    "\n"
   ]
  },
  {
   "cell_type": "markdown",
   "metadata": {},
   "source": [
    "Parse through the response to get the POI (such as restaurants, bars, etc) details you want (ratings, name, location, etc). "
   ]
  },
  {
   "cell_type": "code",
   "execution_count": 37,
   "metadata": {},
   "outputs": [
    {
     "data": {
      "text/html": [
       "<div>\n",
       "<style scoped>\n",
       "    .dataframe tbody tr th:only-of-type {\n",
       "        vertical-align: middle;\n",
       "    }\n",
       "\n",
       "    .dataframe tbody tr th {\n",
       "        vertical-align: top;\n",
       "    }\n",
       "\n",
       "    .dataframe thead th {\n",
       "        text-align: right;\n",
       "    }\n",
       "</style>\n",
       "<table border=\"1\" class=\"dataframe\">\n",
       "  <thead>\n",
       "    <tr style=\"text-align: right;\">\n",
       "      <th></th>\n",
       "      <th>categories</th>\n",
       "      <th>distance</th>\n",
       "      <th>name</th>\n",
       "      <th>popularity</th>\n",
       "      <th>rating</th>\n",
       "      <th>location.address</th>\n",
       "      <th>location.census_block</th>\n",
       "      <th>location.country</th>\n",
       "      <th>location.cross_street</th>\n",
       "      <th>location.dma</th>\n",
       "      <th>location.formatted_address</th>\n",
       "      <th>location.locality</th>\n",
       "      <th>location.postcode</th>\n",
       "      <th>location.region</th>\n",
       "      <th>location.address_extended</th>\n",
       "      <th>station</th>\n",
       "    </tr>\n",
       "  </thead>\n",
       "  <tbody>\n",
       "    <tr>\n",
       "      <th>0</th>\n",
       "      <td>[{'id': 13003, 'name': 'Bar', 'short_name': 'B...</td>\n",
       "      <td>97</td>\n",
       "      <td>The Liberty Tavern</td>\n",
       "      <td>0.982389</td>\n",
       "      <td>8.5</td>\n",
       "      <td>3195 Wilson Blvd</td>\n",
       "      <td>510131015022016</td>\n",
       "      <td>US</td>\n",
       "      <td>Washington Blvd</td>\n",
       "      <td>Washington, Dc-Hagrstwn</td>\n",
       "      <td>3195 Wilson Blvd (Washington Blvd), Arlington,...</td>\n",
       "      <td>Arlington</td>\n",
       "      <td>22201</td>\n",
       "      <td>VA</td>\n",
       "      <td>NaN</td>\n",
       "      <td>Fairfax Dr &amp; Wilson Blvd</td>\n",
       "    </tr>\n",
       "    <tr>\n",
       "      <th>1</th>\n",
       "      <td>[{'id': 13003, 'name': 'Bar', 'short_name': 'B...</td>\n",
       "      <td>240</td>\n",
       "      <td>Lyon Hall</td>\n",
       "      <td>0.982187</td>\n",
       "      <td>8.5</td>\n",
       "      <td>3100 Washington Blvd</td>\n",
       "      <td>510131019001002</td>\n",
       "      <td>US</td>\n",
       "      <td>at N Highland St.</td>\n",
       "      <td>Washington, Dc-Hagrstwn</td>\n",
       "      <td>3100 Washington Blvd (at N Highland St.), Arli...</td>\n",
       "      <td>Arlington</td>\n",
       "      <td>22201</td>\n",
       "      <td>VA</td>\n",
       "      <td>NaN</td>\n",
       "      <td>Fairfax Dr &amp; Wilson Blvd</td>\n",
       "    </tr>\n",
       "    <tr>\n",
       "      <th>2</th>\n",
       "      <td>[{'id': 13007, 'name': 'Beer Garden', 'short_n...</td>\n",
       "      <td>131</td>\n",
       "      <td>The Lot</td>\n",
       "      <td>0.972111</td>\n",
       "      <td>8.0</td>\n",
       "      <td>3217 10th St N</td>\n",
       "      <td>510131019001004</td>\n",
       "      <td>US</td>\n",
       "      <td></td>\n",
       "      <td>Washington, Dc-Hagrstwn</td>\n",
       "      <td>3217 10th St N, Arlington, VA 22201</td>\n",
       "      <td>Arlington</td>\n",
       "      <td>22201</td>\n",
       "      <td>VA</td>\n",
       "      <td>NaN</td>\n",
       "      <td>Fairfax Dr &amp; Wilson Blvd</td>\n",
       "    </tr>\n",
       "    <tr>\n",
       "      <th>3</th>\n",
       "      <td>[{'id': 13015, 'name': 'Karaoke Bar', 'short_n...</td>\n",
       "      <td>62</td>\n",
       "      <td>O'Sullivan's Irish Pub</td>\n",
       "      <td>0.980685</td>\n",
       "      <td>7.5</td>\n",
       "      <td>3207 Washington Blvd</td>\n",
       "      <td>510131015022017</td>\n",
       "      <td>US</td>\n",
       "      <td>at Wilson Blvd.</td>\n",
       "      <td>Washington, Dc-Hagrstwn</td>\n",
       "      <td>3207 Washington Blvd (at Wilson Blvd.), Arling...</td>\n",
       "      <td>Arlington</td>\n",
       "      <td>22201</td>\n",
       "      <td>VA</td>\n",
       "      <td>NaN</td>\n",
       "      <td>Fairfax Dr &amp; Wilson Blvd</td>\n",
       "    </tr>\n",
       "    <tr>\n",
       "      <th>4</th>\n",
       "      <td>[{'id': 13025, 'name': 'Wine Bar', 'short_name...</td>\n",
       "      <td>442</td>\n",
       "      <td>Screwtop Wine Bar</td>\n",
       "      <td>0.965211</td>\n",
       "      <td>8.5</td>\n",
       "      <td>1025 N Fillmore St</td>\n",
       "      <td>510131018011002</td>\n",
       "      <td>US</td>\n",
       "      <td>NaN</td>\n",
       "      <td>Washington, Dc-Hagrstwn</td>\n",
       "      <td>1025 N Fillmore St, Arlington, VA 22201</td>\n",
       "      <td>Arlington</td>\n",
       "      <td>22201</td>\n",
       "      <td>VA</td>\n",
       "      <td>Ste C</td>\n",
       "      <td>Fairfax Dr &amp; Wilson Blvd</td>\n",
       "    </tr>\n",
       "  </tbody>\n",
       "</table>\n",
       "</div>"
      ],
      "text/plain": [
       "                                          categories  distance  \\\n",
       "0  [{'id': 13003, 'name': 'Bar', 'short_name': 'B...        97   \n",
       "1  [{'id': 13003, 'name': 'Bar', 'short_name': 'B...       240   \n",
       "2  [{'id': 13007, 'name': 'Beer Garden', 'short_n...       131   \n",
       "3  [{'id': 13015, 'name': 'Karaoke Bar', 'short_n...        62   \n",
       "4  [{'id': 13025, 'name': 'Wine Bar', 'short_name...       442   \n",
       "\n",
       "                     name  popularity  rating      location.address  \\\n",
       "0      The Liberty Tavern    0.982389     8.5      3195 Wilson Blvd   \n",
       "1               Lyon Hall    0.982187     8.5  3100 Washington Blvd   \n",
       "2                 The Lot    0.972111     8.0        3217 10th St N   \n",
       "3  O'Sullivan's Irish Pub    0.980685     7.5  3207 Washington Blvd   \n",
       "4       Screwtop Wine Bar    0.965211     8.5    1025 N Fillmore St   \n",
       "\n",
       "  location.census_block location.country location.cross_street  \\\n",
       "0       510131015022016               US       Washington Blvd   \n",
       "1       510131019001002               US     at N Highland St.   \n",
       "2       510131019001004               US                         \n",
       "3       510131015022017               US       at Wilson Blvd.   \n",
       "4       510131018011002               US                   NaN   \n",
       "\n",
       "              location.dma                         location.formatted_address  \\\n",
       "0  Washington, Dc-Hagrstwn  3195 Wilson Blvd (Washington Blvd), Arlington,...   \n",
       "1  Washington, Dc-Hagrstwn  3100 Washington Blvd (at N Highland St.), Arli...   \n",
       "2  Washington, Dc-Hagrstwn                3217 10th St N, Arlington, VA 22201   \n",
       "3  Washington, Dc-Hagrstwn  3207 Washington Blvd (at Wilson Blvd.), Arling...   \n",
       "4  Washington, Dc-Hagrstwn            1025 N Fillmore St, Arlington, VA 22201   \n",
       "\n",
       "  location.locality location.postcode location.region  \\\n",
       "0         Arlington             22201              VA   \n",
       "1         Arlington             22201              VA   \n",
       "2         Arlington             22201              VA   \n",
       "3         Arlington             22201              VA   \n",
       "4         Arlington             22201              VA   \n",
       "\n",
       "  location.address_extended                   station  \n",
       "0                       NaN  Fairfax Dr & Wilson Blvd  \n",
       "1                       NaN  Fairfax Dr & Wilson Blvd  \n",
       "2                       NaN  Fairfax Dr & Wilson Blvd  \n",
       "3                       NaN  Fairfax Dr & Wilson Blvd  \n",
       "4                     Ste C  Fairfax Dr & Wilson Blvd  "
      ]
     },
     "execution_count": 37,
     "metadata": {},
     "output_type": "execute_result"
    }
   ],
   "source": [
    "foursquaredata.head()"
   ]
  },
  {
   "cell_type": "markdown",
   "metadata": {},
   "source": [
    "There are 56 null values in foursquare ratings but I am keeping them in for now because I want to see them with the yelp data in the next stage. The data may be offices and that makes sense that no one has rated them yet."
   ]
  },
  {
   "cell_type": "code",
   "execution_count": 39,
   "metadata": {},
   "outputs": [],
   "source": [
    "foursquareparsed = foursquaredata[['station','distance','name','location.address','rating','popularity','categories']]\n",
    "foursquareparsed.loc[:, 'categories']= foursquareparsed['categories'].apply(lambda x: [cat['name'] for cat in x])"
   ]
  },
  {
   "cell_type": "code",
   "execution_count": 40,
   "metadata": {},
   "outputs": [],
   "source": [
    "foursquareparsed.loc[:, 'categories'] = foursquareparsed['categories'].apply(lambda x: 'bar' if any('bar' in category.lower() for category in x) or any('pub' in category.lower() for category in x) or any('restaurant' in category.lower() for category in x) else 'school')"
   ]
  },
  {
   "cell_type": "markdown",
   "metadata": {},
   "source": [
    "# Foursquare EDA"
   ]
  },
  {
   "cell_type": "code",
   "execution_count": 41,
   "metadata": {},
   "outputs": [
    {
     "name": "stdout",
     "output_type": "stream",
     "text": [
      "Shape of the dataset: (389, 7)\n",
      "                    station  distance                    name  \\\n",
      "0  Fairfax Dr & Wilson Blvd        97      The Liberty Tavern   \n",
      "1  Fairfax Dr & Wilson Blvd       240               Lyon Hall   \n",
      "2  Fairfax Dr & Wilson Blvd       131                 The Lot   \n",
      "3  Fairfax Dr & Wilson Blvd        62  O'Sullivan's Irish Pub   \n",
      "4  Fairfax Dr & Wilson Blvd       442       Screwtop Wine Bar   \n",
      "\n",
      "       location.address  rating  popularity categories  \n",
      "0      3195 Wilson Blvd     8.5    0.982389        bar  \n",
      "1  3100 Washington Blvd     8.5    0.982187        bar  \n",
      "2        3217 10th St N     8.0    0.972111        bar  \n",
      "3  3207 Washington Blvd     7.5    0.980685        bar  \n",
      "4    1025 N Fillmore St     8.5    0.965211        bar  \n",
      "<class 'pandas.core.frame.DataFrame'>\n",
      "RangeIndex: 389 entries, 0 to 388\n",
      "Data columns (total 7 columns):\n",
      " #   Column            Non-Null Count  Dtype  \n",
      "---  ------            --------------  -----  \n",
      " 0   station           389 non-null    object \n",
      " 1   distance          389 non-null    int64  \n",
      " 2   name              389 non-null    object \n",
      " 3   location.address  386 non-null    object \n",
      " 4   rating            162 non-null    float64\n",
      " 5   popularity        341 non-null    float64\n",
      " 6   categories        389 non-null    object \n",
      "dtypes: float64(2), int64(1), object(4)\n",
      "memory usage: 21.4+ KB\n",
      "None\n",
      "station               0\n",
      "distance              0\n",
      "name                  0\n",
      "location.address      3\n",
      "rating              227\n",
      "popularity           48\n",
      "categories            0\n",
      "dtype: int64\n",
      "         distance      rating  popularity\n",
      "count  389.000000  162.000000  341.000000\n",
      "mean   302.069409    7.592593    0.811303\n",
      "std    125.609392    0.806307    0.274324\n",
      "min     19.000000    5.400000    0.010104\n",
      "25%    208.000000    7.000000    0.746918\n",
      "50%    306.000000    7.700000    0.955233\n",
      "75%    411.000000    8.100000    0.981274\n",
      "max    548.000000    9.200000    0.999041\n"
     ]
    }
   ],
   "source": [
    "print(f\"Shape of the dataset: {foursquareparsed.shape}\")\n",
    "\n",
    "print(foursquareparsed.head())\n",
    "\n",
    "print(foursquareparsed.info())\n",
    "\n",
    "print(foursquareparsed.isnull().sum())\n",
    "\n",
    "print(foursquareparsed.describe())"
   ]
  },
  {
   "cell_type": "code",
   "execution_count": 42,
   "metadata": {},
   "outputs": [
    {
     "data": {
      "image/png": "[encoded data removed]",
      "text/plain": [
       "<Figure size 640x480 with 4 Axes>"
      ]
     },
     "metadata": {},
     "output_type": "display_data"
    }
   ],
   "source": [
    "foursquareparsed.hist(bins=30)\n",
    "plt.show()"
   ]
  },
  {
   "cell_type": "code",
   "execution_count": 43,
   "metadata": {},
   "outputs": [
    {
     "data": {
      "image/png": "[encoded data removed]",
      "text/plain": [
       "<Figure size 1200x600 with 1 Axes>"
      ]
     },
     "metadata": {},
     "output_type": "display_data"
    }
   ],
   "source": [
    "plt.figure(figsize=(12, 6))\n",
    "sns.countplot(data=foursquareparsed, x='categories')\n",
    "plt.xticks(rotation=45)\n",
    "plt.title('Count of categories')\n",
    "plt.show()"
   ]
  },
  {
   "cell_type": "markdown",
   "metadata": {},
   "source": [
    "Results into CSV for next steps"
   ]
  },
  {
   "cell_type": "code",
   "execution_count": 51,
   "metadata": {},
   "outputs": [],
   "source": [
    "foursquareparsed.to_csv('../data/foursqdata.csv', index=False)"
   ]
  },
  {
   "cell_type": "markdown",
   "metadata": {},
   "source": [
    "# Yelp"
   ]
  },
  {
   "cell_type": "markdown",
   "metadata": {},
   "source": [
    "Send a request to Yelp with a small radius (1000m) for all the bike stations in your city of choice. "
   ]
  },
  {
   "cell_type": "code",
   "execution_count": 52,
   "metadata": {},
   "outputs": [
    {
     "name": "stdout",
     "output_type": "stream",
     "text": [
      "Status: 200\n",
      "Status: 200\n",
      "Status: 200\n",
      "Status: 200\n",
      "Status: 200\n",
      "Status: 200\n",
      "Status: 200\n",
      "Status: 200\n",
      "Status: 200\n",
      "Status: 200\n",
      "Status: 200\n",
      "Status: 200\n",
      "Status: 200\n",
      "Status: 200\n",
      "Status: 200\n",
      "Status: 200\n",
      "Status: 200\n",
      "Status: 200\n",
      "Status: 200\n",
      "Status: 200\n",
      "Status: 200\n",
      "Status: 200\n",
      "Status: 200\n",
      "Status: 200\n",
      "Status: 200\n",
      "Status: 200\n",
      "Status: 200\n",
      "Status: 200\n",
      "Status: 200\n",
      "Status: 200\n",
      "Status: 200\n",
      "Status: 200\n",
      "Status: 200\n",
      "Status: 200\n",
      "Status: 200\n",
      "Status: 200\n",
      "Status: 200\n",
      "Status: 200\n",
      "Status: 200\n",
      "Status: 200\n",
      "Status: 200\n",
      "Status: 200\n",
      "Status: 200\n",
      "Status: 200\n",
      "Status: 200\n",
      "Status: 200\n",
      "Status: 200\n",
      "Status: 200\n",
      "Status: 200\n",
      "Status: 200\n",
      "Status: 200\n",
      "Status: 200\n",
      "Status: 200\n",
      "Status: 200\n",
      "Status: 200\n",
      "Status: 200\n",
      "Status: 200\n",
      "Status: 200\n",
      "Status: 200\n",
      "Status: 200\n",
      "Status: 200\n",
      "Status: 200\n",
      "Status: 200\n",
      "Status: 200\n",
      "Status: 200\n",
      "Status: 200\n",
      "Status: 200\n",
      "Status: 200\n",
      "Status: 200\n",
      "Status: 200\n",
      "Status: 200\n",
      "Status: 200\n",
      "Status: 200\n",
      "Status: 200\n",
      "Status: 200\n"
     ]
    }
   ],
   "source": [
    "yelp_api_key = os.environ['yelpapi']\n",
    "latitude = \"\"\n",
    "longitude = ''\n",
    "radius = str(500)\n",
    "categories = 'bars,elementaryschools,highschools,privateschools'\n",
    "headers = {\"Accept\": \"application/json\"}\n",
    "headers['Authorization'] = f\"Bearer {yelp_api_key}\"\n",
    "yelpdataframes = []\n",
    "for index, row in df.iterrows():\n",
    "    latitude = row['latitude']\n",
    "    longitude = row['longitude']\n",
    "    url = f\"https://api.yelp.com/v3/businesses/search?latitude={latitude}&longitude={longitude}&radius={radius}&categories={categories}\"\n",
    "    result = requests.get(url, headers=headers)\n",
    "    print(f\"Status: {result.status_code}\")\n",
    "    data = result.json()\n",
    "    result_df = pd.json_normalize(data.get('businesses', []))\n",
    "    if not result_df.empty:\n",
    "        result_df['station'] = row['name']\n",
    "        yelpdataframes.append(result_df)\n",
    "yelpdata = pd.concat(yelpdataframes, ignore_index=True) if yelpdataframes else pd.DataFrame()\n"
   ]
  },
  {
   "cell_type": "markdown",
   "metadata": {},
   "source": [
    "Confirming all stations are present. Parsing data and then renaming column to match Foursquare. "
   ]
  },
  {
   "cell_type": "code",
   "execution_count": 53,
   "metadata": {},
   "outputs": [
    {
     "data": {
      "text/plain": [
       "Index(['id', 'alias', 'name', 'image_url', 'is_closed', 'url', 'review_count',\n",
       "       'categories', 'rating', 'transactions', 'price', 'phone',\n",
       "       'display_phone', 'distance', 'business_hours', 'coordinates.latitude',\n",
       "       'coordinates.longitude', 'location.address1', 'location.address2',\n",
       "       'location.address3', 'location.city', 'location.zip_code',\n",
       "       'location.country', 'location.state', 'location.display_address',\n",
       "       'attributes.business_temp_closed', 'attributes.menu_url',\n",
       "       'attributes.open24_hours', 'attributes.waitlist_reservation',\n",
       "       'station'],\n",
       "      dtype='object')"
      ]
     },
     "execution_count": 53,
     "metadata": {},
     "output_type": "execute_result"
    }
   ],
   "source": [
    "yelpdata['station'].unique()\n",
    "yelpdata.keys()"
   ]
  },
  {
   "cell_type": "code",
   "execution_count": 54,
   "metadata": {},
   "outputs": [
    {
     "data": {
      "text/plain": [
       "534"
      ]
     },
     "execution_count": 54,
     "metadata": {},
     "output_type": "execute_result"
    }
   ],
   "source": [
    "len(yelpdata)"
   ]
  },
  {
   "cell_type": "code",
   "execution_count": 55,
   "metadata": {},
   "outputs": [
    {
     "data": {
      "text/plain": [
       "0"
      ]
     },
     "execution_count": 55,
     "metadata": {},
     "output_type": "execute_result"
    }
   ],
   "source": [
    "yelpdata['rating'].isnull().sum()"
   ]
  },
  {
   "cell_type": "code",
   "execution_count": 8,
   "metadata": {},
   "outputs": [],
   "source": [
    "yelpparsed = yelpdata[['station','distance','name','location.address1','rating']]\n",
    "yelpparsed=yelpparsed.rename(columns={'location.address1': 'location.address'})\n"
   ]
  },
  {
   "cell_type": "markdown",
   "metadata": {},
   "source": [
    "### Dealing with duplicates"
   ]
  },
  {
   "cell_type": "code",
   "execution_count": 9,
   "metadata": {},
   "outputs": [],
   "source": [
    "namecount = yelpparsed.groupby(['name', 'station']).size().reset_index(name='count')\n",
    "namecount[namecount['count']>1].sort_values(by='count',ascending=False)\n",
    "yelpparsed=yelpparsed.drop_duplicates(subset='name')\n"
   ]
  },
  {
   "cell_type": "markdown",
   "metadata": {},
   "source": [
    "Results into a CSV for next steps"
   ]
  },
  {
   "cell_type": "code",
   "execution_count": 10,
   "metadata": {},
   "outputs": [],
   "source": [
    "yelpparsed.to_csv('yelpdata.csv', index=False)"
   ]
  },
  {
   "cell_type": "markdown",
   "metadata": {},
   "source": [
    "# Comparing Results"
   ]
  },
  {
   "cell_type": "markdown",
   "metadata": {},
   "source": [
    "Which API provided you with more complete data? Provide an explanation. "
   ]
  },
  {
   "cell_type": "markdown",
   "metadata": {},
   "source": [
    "Foursquare provided more complete data because they provide clear documentation around categories and filtering. Yelp's lack of category definitions means that there is more uncertainty around what you are able to pull. "
   ]
  },
  {
   "cell_type": "markdown",
   "metadata": {},
   "source": [
    "Get the top 10 restaurants according to their rating"
   ]
  },
  {
   "cell_type": "markdown",
   "metadata": {},
   "source": [
    "Yelp top 10"
   ]
  },
  {
   "cell_type": "code",
   "execution_count": null,
   "metadata": {},
   "outputs": [],
   "source": [
    "yelptop10 = yelpparsed.sort_values(by='rating', ascending=False).reset_index(drop=True).head(10)\n",
    "yelptop10"
   ]
  },
  {
   "cell_type": "markdown",
   "metadata": {},
   "source": [
    "Foursquare top 10"
   ]
  },
  {
   "cell_type": "code",
   "execution_count": null,
   "metadata": {},
   "outputs": [],
   "source": [
    "foursqtop10 = foursquareparsed.sort_values(by='rating', ascending=False).reset_index(drop=True).head(10)\n",
    "foursqtop10"
   ]
  },
  {
   "cell_type": "code",
   "execution_count": null,
   "metadata": {},
   "outputs": [],
   "source": []
  }
 ],
 "metadata": {
  "kernelspec": {
   "display_name": "bootcamp",
   "language": "python",
   "name": "python3"
  },
  "language_info": {
   "codemirror_mode": {
    "name": "ipython",
    "version": 3
   },
   "file_extension": ".py",
   "mimetype": "text/x-python",
   "name": "python",
   "nbconvert_exporter": "python",
   "pygments_lexer": "ipython3",
   "version": "3.11.0"
  }
 },
 "nbformat": 4,
 "nbformat_minor": 4
}
